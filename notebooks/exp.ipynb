{
 "cells": [
  {
   "cell_type": "code",
   "execution_count": 3,
   "id": "9bae5c43-a36e-4768-897f-7d9bedcffbef",
   "metadata": {},
   "outputs": [],
   "source": [
    "import sys\n",
    "from pathlib import Path"
   ]
  },
  {
   "cell_type": "code",
   "execution_count": 4,
   "id": "9c762041-6063-4e9a-8b91-97ddd4134eee",
   "metadata": {},
   "outputs": [],
   "source": [
    "%load_ext autoreload\n",
    "%autoreload 3 -p\n",
    "%matplotlib inline"
   ]
  },
  {
   "cell_type": "markdown",
   "id": "49889896-8cf7-478d-8f35-293edd6f7fb3",
   "metadata": {},
   "source": [
    "## imports"
   ]
  },
  {
   "cell_type": "code",
   "execution_count": 5,
   "id": "cab176f7-2761-4029-a227-a1ac13d759de",
   "metadata": {},
   "outputs": [],
   "source": [
    "import pprint\n",
    "import matplotlib.pyplot as plt"
   ]
  },
  {
   "cell_type": "code",
   "execution_count": 6,
   "id": "fe72054a-b5fd-4795-8fd1-9b6ba176f31f",
   "metadata": {},
   "outputs": [],
   "source": [
    "from hydra import initialize, compose"
   ]
  },
  {
   "cell_type": "code",
   "execution_count": 7,
   "id": "667fcc43-1500-4bcd-a2c1-16a34e84f1b7",
   "metadata": {},
   "outputs": [],
   "source": [
    "from object_detection_impl.train import _run"
   ]
  },
  {
   "cell_type": "markdown",
   "id": "355f53a2-1171-4653-b37c-222584e42b28",
   "metadata": {},
   "source": [
    "## config"
   ]
  },
  {
   "cell_type": "code",
   "execution_count": 8,
   "id": "4ce6fd6e-6418-4c75-9af5-dc36d15d54da",
   "metadata": {},
   "outputs": [],
   "source": [
    "def load_config():\n",
    "    with initialize(version_base=None, config_path=\"../configs\"):\n",
    "        cfg = compose(config_name=\"config_tv_clf\")\n",
    "        print(cfg)\n",
    "        return cfg"
   ]
  },
  {
   "cell_type": "code",
   "execution_count": 9,
   "id": "5cb2d02d-4c08-4598-8052-f67fc4b0c661",
   "metadata": {},
   "outputs": [
    {
     "name": "stdout",
     "output_type": "stream",
     "text": [
      "{'general': {'logs_folder_name': 'logs', 'root_dir': '/home/ajkdrag/workspace/projects/object-detection-impl/experiments', 'workspace': 'ajkdrag', 'project_name': 'od-impl', 'device': 'cuda', 'exp_name': '${datamodule.dataset.name}'}, 'datamodule': {'path': '/home/ajkdrag/workspace/projects/object-detection-impl/data/cifar10', 'class_name': 'datamodules.tv_clf_dm.TorchvisionClfDatamodule', 'dataset': {'class_name': 'datasets.tv_clf_ds.TorchvisionClfDataset', 'name': 'CIFAR10', 'mean': [0.4914, 0.4822, 0.4465], 'std': [0.2471, 0.2435, 0.2616], 'n_classes': 10}, 'num_workers': 8, 'batch_size': '${training.bs}', 'test_batch_size': 32, 'pin_memory': True, 'splits': [0.7, 0.3]}, 'augmentation': {'train': [{'class_name': 'albumentations.RandomResizedCrop', 'params': {'height': '${model.input_size}', 'width': '${model.input_size}', 'scale': [0.75, 1], 'p': 0.5}}, {'class_name': 'albumentations.HorizontalFlip', 'params': {'p': 0.5}}, {'class_name': 'albumentations.ShiftScaleRotate', 'params': {'shift_limit': 0.1, 'scale_limit': 0.1, 'rotate_limit': 10, 'p': 0.5}}, {'class_name': 'albumentations.ColorJitter', 'params': {'brightness': 0.2, 'contrast': 0.2, 'saturation': 0.2, 'hue': 0.01, 'p': 1.0}}, {'class_name': 'albumentations.Normalize', 'params': {'mean': '${datamodule.dataset.mean}', 'std': '${datamodule.dataset.std}', 'p': 1.0}}, {'class_name': 'albumentations.pytorch.transforms.ToTensorV2', 'params': {'p': 1.0}}], 'val': [{'class_name': 'albumentations.Normalize', 'params': {'mean': '${datamodule.dataset.mean}', 'std': '${datamodule.dataset.std}', 'p': 1.0}}, {'class_name': 'albumentations.pytorch.transforms.ToTensorV2', 'params': {'p': 1.0}}]}, 'training': {'lr': 0.001, 'wd': 0.1, 'bs': 64, 'epochs': 100, 'seed': 666, 'debug': False, 'mode': 'max', 'monitor': '${metric._primary}', 'lit_model': {'class_name': 'lit_models.image_clf.LitImageClassifier'}, 'trainer_params': {'devices': 1, 'accelerator': 'gpu', 'precision': 16, 'profiler': False, 'max_epochs': '${training.epochs}', 'log_every_n_steps': 50, 'num_sanity_val_steps': 0, 'check_val_every_n_epoch': 1, 'default_root_dir': '${general.root_dir}'}}, 'predict': {'checkpoint': 'model_checkpoints/epoch=28-valid_accuracy=0.906733.ckpt', 'postprocessor': {'func_name': 'postprocessor.tv_clf_pp.postprocess', 'params': {'label_h': 20, 'size': 120}}}, 'model': {'class_name': 'models.nets.t2t.T2TViT', 'input_size': 32, 'stem': {'class_name': 'models.stems.patch.T2TPatch', 'params': {'kernel_sizes': [3, 3, 3], 'strides': [2, 2, 2]}}, 'neck': {'class_name': 'models.necks.patch.SequencePooling'}, 'head': {'class_name': 'models.heads.fc.FullyConnectedHead', 'params': {'layer_units': ['${datamodule.dataset.n_classes}'], 'activations': ['id'], 'dropout_rates': [0.0]}}}, 'optimizer': {'class_name': 'torch.optim.AdamW', 'params': {'lr': '${training.lr}', 'weight_decay': '${training.wd}'}}, 'scheduler': {'class_name': 'torch.optim.lr_scheduler.OneCycleLR', 'step': 'step', 'monitor': 'train_${training.monitor}', 'params': {'max_lr': '${training.lr}', 'total_steps': None}}, 'loss': {'class_name': 'torch.nn.CrossEntropyLoss', 'params': {'label_smoothing': 0.1}}, 'metric': {'accuracy': {'class_name': 'torchmetrics.Accuracy', 'params': {'task': 'multiclass', 'threshold': 0.5, 'num_classes': '${datamodule.dataset.n_classes}', 'top_k': 1}}, 'f1_score': {'class_name': 'torchmetrics.F1Score', 'params': {'task': 'multiclass', 'average': 'weighted', 'num_classes': '${datamodule.dataset.n_classes}'}}, '_primary': 'accuracy'}, 'callback': {'model_checkpoint': {'class_name': 'lightning.pytorch.callbacks.ModelCheckpoint', 'params': {'monitor': 'valid_${training.monitor}', 'save_top_k': 1, 'dirpath': 'model_checkpoints', 'filename': '{epoch}-{valid_${training.monitor}:.6f}', 'mode': '${training.mode}'}}, 'vis_dls': {'class_name': 'callbacks.vis_dls.VisualizeDlsCallback', 'params': {'num_samples': 8, 'dirpath': 'dls', 'scale': 4}}}, 'logging': {'log': True, 'loggers': [{'class_name': 'pytorch_lightning.loggers.CSVLogger', 'params': {'save_dir': '${general.root_dir}', 'name': '${general.exp_name}/logs'}}]}}\n"
     ]
    }
   ],
   "source": [
    "cfg = load_config()"
   ]
  },
  {
   "cell_type": "code",
   "execution_count": 10,
   "id": "fea7b244-68fb-49d9-b792-bd92d335aeea",
   "metadata": {},
   "outputs": [
    {
     "data": {
      "text/plain": [
       "{'train': [{'class_name': 'albumentations.RandomResizedCrop', 'params': {'height': '${model.input_size}', 'width': '${model.input_size}', 'scale': [0.75, 1], 'p': 0.5}}, {'class_name': 'albumentations.HorizontalFlip', 'params': {'p': 0.5}}, {'class_name': 'albumentations.ShiftScaleRotate', 'params': {'shift_limit': 0.1, 'scale_limit': 0.1, 'rotate_limit': 10, 'p': 0.5}}, {'class_name': 'albumentations.ColorJitter', 'params': {'brightness': 0.2, 'contrast': 0.2, 'saturation': 0.2, 'hue': 0.01, 'p': 1.0}}, {'class_name': 'albumentations.Normalize', 'params': {'mean': '${datamodule.dataset.mean}', 'std': '${datamodule.dataset.std}', 'p': 1.0}}, {'class_name': 'albumentations.pytorch.transforms.ToTensorV2', 'params': {'p': 1.0}}], 'val': [{'class_name': 'albumentations.Normalize', 'params': {'mean': '${datamodule.dataset.mean}', 'std': '${datamodule.dataset.std}', 'p': 1.0}}, {'class_name': 'albumentations.pytorch.transforms.ToTensorV2', 'params': {'p': 1.0}}]}"
      ]
     },
     "execution_count": 10,
     "metadata": {},
     "output_type": "execute_result"
    }
   ],
   "source": [
    "cfg.augmentation"
   ]
  },
  {
   "cell_type": "markdown",
   "id": "5b7bba42-fa9a-4d4f-94e1-dc6c5006d103",
   "metadata": {},
   "source": [
    "## train"
   ]
  },
  {
   "cell_type": "code",
   "execution_count": 11,
   "id": "e5633e5c-0a3e-46d2-a70f-08dfb9bdd4f5",
   "metadata": {},
   "outputs": [
    {
     "name": "stdout",
     "output_type": "stream",
     "text": [
      "2024-06-16T09:41:04.405457Z [info     ] **** Running train func ****   func_name=_run lineno=18\n"
     ]
    },
    {
     "name": "stderr",
     "output_type": "stream",
     "text": [
      "/home/ajkdrag/workspace/projects/object-detection-impl/.venv/lib/python3.9/site-packages/lightning/fabric/connector.py:563: `precision=16` is supported for historical reasons but its usage is discouraged. Please set your precision to 16-mixed instead!\n"
     ]
    },
    {
     "name": "stdout",
     "output_type": "stream",
     "text": [
      "Using 16bit Automatic Mixed Precision (AMP)\n",
      "GPU available: True (cuda), used: True\n",
      "TPU available: False, using: 0 TPU cores\n",
      "IPU available: False, using: 0 IPUs\n",
      "HPU available: False, using: 0 HPUs\n"
     ]
    },
    {
     "name": "stderr",
     "output_type": "stream",
     "text": [
      "/home/ajkdrag/workspace/projects/object-detection-impl/.venv/lib/python3.9/site-packages/pydantic/main.py:347: UserWarning: Pydantic serializer warnings:\n",
      "  Expected `Union[float, tuple[float, float]]` but got `list` - serialized value may not be as expected\n",
      "  Expected `Union[float, tuple[float, float]]` but got `list` - serialized value may not be as expected\n",
      "  Expected `Union[float, tuple[float, float]]` but got `list` - serialized value may not be as expected\n",
      "  Expected `Union[float, tuple[float, float]]` but got `list` - serialized value may not be as expected\n",
      "  return self.__pydantic_serializer__.to_python(\n"
     ]
    },
    {
     "name": "stdout",
     "output_type": "stream",
     "text": [
      "Files already downloaded and verified\n",
      "Files already downloaded and verified\n",
      "2024-06-16T09:41:07.950044Z [info     ] train_dataset size: 35000      func_name=setup lineno=77\n",
      "2024-06-16T09:41:07.957098Z [info     ] val_dataset size: 15000        func_name=setup lineno=78\n"
     ]
    },
    {
     "name": "stderr",
     "output_type": "stream",
     "text": [
      "/home/ajkdrag/workspace/projects/object-detection-impl/.venv/lib/python3.9/site-packages/lightning/pytorch/callbacks/model_checkpoint.py:653: Checkpoint directory /home/ajkdrag/workspace/projects/object-detection-impl/experiments/CIFAR10/model_checkpoints exists and is not empty.\n",
      "INFO: LOCAL_RANK: 0 - CUDA_VISIBLE_DEVICES: [0]\n"
     ]
    },
    {
     "name": "stdout",
     "output_type": "stream",
     "text": [
      "Loading `train_dataloader` to estimate number of stepping batches.\n"
     ]
    },
    {
     "name": "stderr",
     "output_type": "stream",
     "text": [
      "INFO: \n",
      "  | Name    | Type             | Params\n",
      "---------------------------------------------\n",
      "0 | model   | T2TViT           | 1.3 M \n",
      "1 | loss    | CrossEntropyLoss | 0     \n",
      "2 | metrics | ModuleDict       | 0     \n",
      "---------------------------------------------\n",
      "1.3 M     Trainable params\n",
      "0         Non-trainable params\n",
      "1.3 M     Total params\n",
      "5.029     Total estimated model params size (MB)\n"
     ]
    },
    {
     "data": {
      "application/vnd.jupyter.widget-view+json": {
       "model_id": "cd81d2463867488fa62feb8d99f2cd05",
       "version_major": 2,
       "version_minor": 0
      },
      "text/plain": [
       "Training: |                                                                                       | 0/? [00:00…"
      ]
     },
     "metadata": {},
     "output_type": "display_data"
    },
    {
     "data": {
      "application/vnd.jupyter.widget-view+json": {
       "model_id": "",
       "version_major": 2,
       "version_minor": 0
      },
      "text/plain": [
       "Validation: |                                                                                     | 0/? [00:00…"
      ]
     },
     "metadata": {},
     "output_type": "display_data"
    },
    {
     "data": {
      "application/vnd.jupyter.widget-view+json": {
       "model_id": "",
       "version_major": 2,
       "version_minor": 0
      },
      "text/plain": [
       "Validation: |                                                                                     | 0/? [00:00…"
      ]
     },
     "metadata": {},
     "output_type": "display_data"
    },
    {
     "data": {
      "application/vnd.jupyter.widget-view+json": {
       "model_id": "",
       "version_major": 2,
       "version_minor": 0
      },
      "text/plain": [
       "Validation: |                                                                                     | 0/? [00:00…"
      ]
     },
     "metadata": {},
     "output_type": "display_data"
    },
    {
     "data": {
      "application/vnd.jupyter.widget-view+json": {
       "model_id": "",
       "version_major": 2,
       "version_minor": 0
      },
      "text/plain": [
       "Validation: |                                                                                     | 0/? [00:00…"
      ]
     },
     "metadata": {},
     "output_type": "display_data"
    },
    {
     "data": {
      "application/vnd.jupyter.widget-view+json": {
       "model_id": "",
       "version_major": 2,
       "version_minor": 0
      },
      "text/plain": [
       "Validation: |                                                                                     | 0/? [00:00…"
      ]
     },
     "metadata": {},
     "output_type": "display_data"
    },
    {
     "data": {
      "application/vnd.jupyter.widget-view+json": {
       "model_id": "",
       "version_major": 2,
       "version_minor": 0
      },
      "text/plain": [
       "Validation: |                                                                                     | 0/? [00:00…"
      ]
     },
     "metadata": {},
     "output_type": "display_data"
    },
    {
     "data": {
      "application/vnd.jupyter.widget-view+json": {
       "model_id": "",
       "version_major": 2,
       "version_minor": 0
      },
      "text/plain": [
       "Validation: |                                                                                     | 0/? [00:00…"
      ]
     },
     "metadata": {},
     "output_type": "display_data"
    },
    {
     "data": {
      "application/vnd.jupyter.widget-view+json": {
       "model_id": "",
       "version_major": 2,
       "version_minor": 0
      },
      "text/plain": [
       "Validation: |                                                                                     | 0/? [00:00…"
      ]
     },
     "metadata": {},
     "output_type": "display_data"
    },
    {
     "data": {
      "application/vnd.jupyter.widget-view+json": {
       "model_id": "",
       "version_major": 2,
       "version_minor": 0
      },
      "text/plain": [
       "Validation: |                                                                                     | 0/? [00:00…"
      ]
     },
     "metadata": {},
     "output_type": "display_data"
    },
    {
     "data": {
      "application/vnd.jupyter.widget-view+json": {
       "model_id": "",
       "version_major": 2,
       "version_minor": 0
      },
      "text/plain": [
       "Validation: |                                                                                     | 0/? [00:00…"
      ]
     },
     "metadata": {},
     "output_type": "display_data"
    },
    {
     "data": {
      "application/vnd.jupyter.widget-view+json": {
       "model_id": "",
       "version_major": 2,
       "version_minor": 0
      },
      "text/plain": [
       "Validation: |                                                                                     | 0/? [00:00…"
      ]
     },
     "metadata": {},
     "output_type": "display_data"
    },
    {
     "data": {
      "application/vnd.jupyter.widget-view+json": {
       "model_id": "",
       "version_major": 2,
       "version_minor": 0
      },
      "text/plain": [
       "Validation: |                                                                                     | 0/? [00:00…"
      ]
     },
     "metadata": {},
     "output_type": "display_data"
    },
    {
     "data": {
      "application/vnd.jupyter.widget-view+json": {
       "model_id": "",
       "version_major": 2,
       "version_minor": 0
      },
      "text/plain": [
       "Validation: |                                                                                     | 0/? [00:00…"
      ]
     },
     "metadata": {},
     "output_type": "display_data"
    },
    {
     "data": {
      "application/vnd.jupyter.widget-view+json": {
       "model_id": "",
       "version_major": 2,
       "version_minor": 0
      },
      "text/plain": [
       "Validation: |                                                                                     | 0/? [00:00…"
      ]
     },
     "metadata": {},
     "output_type": "display_data"
    },
    {
     "data": {
      "application/vnd.jupyter.widget-view+json": {
       "model_id": "",
       "version_major": 2,
       "version_minor": 0
      },
      "text/plain": [
       "Validation: |                                                                                     | 0/? [00:00…"
      ]
     },
     "metadata": {},
     "output_type": "display_data"
    },
    {
     "data": {
      "application/vnd.jupyter.widget-view+json": {
       "model_id": "",
       "version_major": 2,
       "version_minor": 0
      },
      "text/plain": [
       "Validation: |                                                                                     | 0/? [00:00…"
      ]
     },
     "metadata": {},
     "output_type": "display_data"
    },
    {
     "data": {
      "application/vnd.jupyter.widget-view+json": {
       "model_id": "",
       "version_major": 2,
       "version_minor": 0
      },
      "text/plain": [
       "Validation: |                                                                                     | 0/? [00:00…"
      ]
     },
     "metadata": {},
     "output_type": "display_data"
    },
    {
     "data": {
      "application/vnd.jupyter.widget-view+json": {
       "model_id": "",
       "version_major": 2,
       "version_minor": 0
      },
      "text/plain": [
       "Validation: |                                                                                     | 0/? [00:00…"
      ]
     },
     "metadata": {},
     "output_type": "display_data"
    },
    {
     "data": {
      "application/vnd.jupyter.widget-view+json": {
       "model_id": "",
       "version_major": 2,
       "version_minor": 0
      },
      "text/plain": [
       "Validation: |                                                                                     | 0/? [00:00…"
      ]
     },
     "metadata": {},
     "output_type": "display_data"
    },
    {
     "data": {
      "application/vnd.jupyter.widget-view+json": {
       "model_id": "",
       "version_major": 2,
       "version_minor": 0
      },
      "text/plain": [
       "Validation: |                                                                                     | 0/? [00:00…"
      ]
     },
     "metadata": {},
     "output_type": "display_data"
    },
    {
     "data": {
      "application/vnd.jupyter.widget-view+json": {
       "model_id": "",
       "version_major": 2,
       "version_minor": 0
      },
      "text/plain": [
       "Validation: |                                                                                     | 0/? [00:00…"
      ]
     },
     "metadata": {},
     "output_type": "display_data"
    },
    {
     "data": {
      "application/vnd.jupyter.widget-view+json": {
       "model_id": "",
       "version_major": 2,
       "version_minor": 0
      },
      "text/plain": [
       "Validation: |                                                                                     | 0/? [00:00…"
      ]
     },
     "metadata": {},
     "output_type": "display_data"
    },
    {
     "data": {
      "application/vnd.jupyter.widget-view+json": {
       "model_id": "",
       "version_major": 2,
       "version_minor": 0
      },
      "text/plain": [
       "Validation: |                                                                                     | 0/? [00:00…"
      ]
     },
     "metadata": {},
     "output_type": "display_data"
    },
    {
     "data": {
      "application/vnd.jupyter.widget-view+json": {
       "model_id": "",
       "version_major": 2,
       "version_minor": 0
      },
      "text/plain": [
       "Validation: |                                                                                     | 0/? [00:00…"
      ]
     },
     "metadata": {},
     "output_type": "display_data"
    },
    {
     "data": {
      "application/vnd.jupyter.widget-view+json": {
       "model_id": "",
       "version_major": 2,
       "version_minor": 0
      },
      "text/plain": [
       "Validation: |                                                                                     | 0/? [00:00…"
      ]
     },
     "metadata": {},
     "output_type": "display_data"
    },
    {
     "data": {
      "application/vnd.jupyter.widget-view+json": {
       "model_id": "",
       "version_major": 2,
       "version_minor": 0
      },
      "text/plain": [
       "Validation: |                                                                                     | 0/? [00:00…"
      ]
     },
     "metadata": {},
     "output_type": "display_data"
    },
    {
     "data": {
      "application/vnd.jupyter.widget-view+json": {
       "model_id": "",
       "version_major": 2,
       "version_minor": 0
      },
      "text/plain": [
       "Validation: |                                                                                     | 0/? [00:00…"
      ]
     },
     "metadata": {},
     "output_type": "display_data"
    },
    {
     "data": {
      "application/vnd.jupyter.widget-view+json": {
       "model_id": "",
       "version_major": 2,
       "version_minor": 0
      },
      "text/plain": [
       "Validation: |                                                                                     | 0/? [00:00…"
      ]
     },
     "metadata": {},
     "output_type": "display_data"
    },
    {
     "data": {
      "application/vnd.jupyter.widget-view+json": {
       "model_id": "",
       "version_major": 2,
       "version_minor": 0
      },
      "text/plain": [
       "Validation: |                                                                                     | 0/? [00:00…"
      ]
     },
     "metadata": {},
     "output_type": "display_data"
    },
    {
     "data": {
      "application/vnd.jupyter.widget-view+json": {
       "model_id": "",
       "version_major": 2,
       "version_minor": 0
      },
      "text/plain": [
       "Validation: |                                                                                     | 0/? [00:00…"
      ]
     },
     "metadata": {},
     "output_type": "display_data"
    },
    {
     "data": {
      "application/vnd.jupyter.widget-view+json": {
       "model_id": "",
       "version_major": 2,
       "version_minor": 0
      },
      "text/plain": [
       "Validation: |                                                                                     | 0/? [00:00…"
      ]
     },
     "metadata": {},
     "output_type": "display_data"
    },
    {
     "data": {
      "application/vnd.jupyter.widget-view+json": {
       "model_id": "",
       "version_major": 2,
       "version_minor": 0
      },
      "text/plain": [
       "Validation: |                                                                                     | 0/? [00:00…"
      ]
     },
     "metadata": {},
     "output_type": "display_data"
    },
    {
     "data": {
      "application/vnd.jupyter.widget-view+json": {
       "model_id": "",
       "version_major": 2,
       "version_minor": 0
      },
      "text/plain": [
       "Validation: |                                                                                     | 0/? [00:00…"
      ]
     },
     "metadata": {},
     "output_type": "display_data"
    },
    {
     "data": {
      "application/vnd.jupyter.widget-view+json": {
       "model_id": "",
       "version_major": 2,
       "version_minor": 0
      },
      "text/plain": [
       "Validation: |                                                                                     | 0/? [00:00…"
      ]
     },
     "metadata": {},
     "output_type": "display_data"
    },
    {
     "data": {
      "application/vnd.jupyter.widget-view+json": {
       "model_id": "",
       "version_major": 2,
       "version_minor": 0
      },
      "text/plain": [
       "Validation: |                                                                                     | 0/? [00:00…"
      ]
     },
     "metadata": {},
     "output_type": "display_data"
    },
    {
     "data": {
      "application/vnd.jupyter.widget-view+json": {
       "model_id": "",
       "version_major": 2,
       "version_minor": 0
      },
      "text/plain": [
       "Validation: |                                                                                     | 0/? [00:00…"
      ]
     },
     "metadata": {},
     "output_type": "display_data"
    },
    {
     "data": {
      "application/vnd.jupyter.widget-view+json": {
       "model_id": "",
       "version_major": 2,
       "version_minor": 0
      },
      "text/plain": [
       "Validation: |                                                                                     | 0/? [00:00…"
      ]
     },
     "metadata": {},
     "output_type": "display_data"
    },
    {
     "data": {
      "application/vnd.jupyter.widget-view+json": {
       "model_id": "",
       "version_major": 2,
       "version_minor": 0
      },
      "text/plain": [
       "Validation: |                                                                                     | 0/? [00:00…"
      ]
     },
     "metadata": {},
     "output_type": "display_data"
    },
    {
     "data": {
      "application/vnd.jupyter.widget-view+json": {
       "model_id": "",
       "version_major": 2,
       "version_minor": 0
      },
      "text/plain": [
       "Validation: |                                                                                     | 0/? [00:00…"
      ]
     },
     "metadata": {},
     "output_type": "display_data"
    },
    {
     "data": {
      "application/vnd.jupyter.widget-view+json": {
       "model_id": "",
       "version_major": 2,
       "version_minor": 0
      },
      "text/plain": [
       "Validation: |                                                                                     | 0/? [00:00…"
      ]
     },
     "metadata": {},
     "output_type": "display_data"
    },
    {
     "data": {
      "application/vnd.jupyter.widget-view+json": {
       "model_id": "",
       "version_major": 2,
       "version_minor": 0
      },
      "text/plain": [
       "Validation: |                                                                                     | 0/? [00:00…"
      ]
     },
     "metadata": {},
     "output_type": "display_data"
    },
    {
     "data": {
      "application/vnd.jupyter.widget-view+json": {
       "model_id": "e39fb8ad315f4b7986499a25ced20029",
       "version_major": 2,
       "version_minor": 0
      },
      "text/plain": [
       "Validation: |                                                                                     | 0/? [00:00…"
      ]
     },
     "metadata": {},
     "output_type": "display_data"
    },
    {
     "data": {
      "application/vnd.jupyter.widget-view+json": {
       "model_id": "0b3f091d1b144aceb130a30d04859978",
       "version_major": 2,
       "version_minor": 0
      },
      "text/plain": [
       "Validation: |                                                                                     | 0/? [00:00…"
      ]
     },
     "metadata": {},
     "output_type": "display_data"
    },
    {
     "data": {
      "application/vnd.jupyter.widget-view+json": {
       "model_id": "42bd7ebfe4e94493b3700ef54df591aa",
       "version_major": 2,
       "version_minor": 0
      },
      "text/plain": [
       "Validation: |                                                                                     | 0/? [00:00…"
      ]
     },
     "metadata": {},
     "output_type": "display_data"
    },
    {
     "data": {
      "application/vnd.jupyter.widget-view+json": {
       "model_id": "6083c97997584fa2b1399abe70dadcbf",
       "version_major": 2,
       "version_minor": 0
      },
      "text/plain": [
       "Validation: |                                                                                     | 0/? [00:00…"
      ]
     },
     "metadata": {},
     "output_type": "display_data"
    },
    {
     "data": {
      "application/vnd.jupyter.widget-view+json": {
       "model_id": "99df19a351f343c9b227d93e22604a4e",
       "version_major": 2,
       "version_minor": 0
      },
      "text/plain": [
       "Validation: |                                                                                     | 0/? [00:00…"
      ]
     },
     "metadata": {},
     "output_type": "display_data"
    },
    {
     "data": {
      "application/vnd.jupyter.widget-view+json": {
       "model_id": "8a6b96296157498abb1dbfe3149df297",
       "version_major": 2,
       "version_minor": 0
      },
      "text/plain": [
       "Validation: |                                                                                     | 0/? [00:00…"
      ]
     },
     "metadata": {},
     "output_type": "display_data"
    },
    {
     "data": {
      "application/vnd.jupyter.widget-view+json": {
       "model_id": "88b0ccee22a444f3af6e710f6cf19747",
       "version_major": 2,
       "version_minor": 0
      },
      "text/plain": [
       "Validation: |                                                                                     | 0/? [00:00…"
      ]
     },
     "metadata": {},
     "output_type": "display_data"
    },
    {
     "data": {
      "application/vnd.jupyter.widget-view+json": {
       "model_id": "84207727a82e4535a74905c39172afd3",
       "version_major": 2,
       "version_minor": 0
      },
      "text/plain": [
       "Validation: |                                                                                     | 0/? [00:00…"
      ]
     },
     "metadata": {},
     "output_type": "display_data"
    },
    {
     "data": {
      "application/vnd.jupyter.widget-view+json": {
       "model_id": "94e8bfd136df4855b7aedf28258a40d1",
       "version_major": 2,
       "version_minor": 0
      },
      "text/plain": [
       "Validation: |                                                                                     | 0/? [00:00…"
      ]
     },
     "metadata": {},
     "output_type": "display_data"
    },
    {
     "data": {
      "application/vnd.jupyter.widget-view+json": {
       "model_id": "8ea13d09ee214a559762181f32deac95",
       "version_major": 2,
       "version_minor": 0
      },
      "text/plain": [
       "Validation: |                                                                                     | 0/? [00:00…"
      ]
     },
     "metadata": {},
     "output_type": "display_data"
    },
    {
     "data": {
      "application/vnd.jupyter.widget-view+json": {
       "model_id": "54d29f1114084feb840412a867e275aa",
       "version_major": 2,
       "version_minor": 0
      },
      "text/plain": [
       "Validation: |                                                                                     | 0/? [00:00…"
      ]
     },
     "metadata": {},
     "output_type": "display_data"
    },
    {
     "data": {
      "application/vnd.jupyter.widget-view+json": {
       "model_id": "ab3c7fda2e564b318eaff7e52c42be9b",
       "version_major": 2,
       "version_minor": 0
      },
      "text/plain": [
       "Validation: |                                                                                     | 0/? [00:00…"
      ]
     },
     "metadata": {},
     "output_type": "display_data"
    },
    {
     "data": {
      "application/vnd.jupyter.widget-view+json": {
       "model_id": "528f1b58fbef4e428bfcfdda79f567f6",
       "version_major": 2,
       "version_minor": 0
      },
      "text/plain": [
       "Validation: |                                                                                     | 0/? [00:00…"
      ]
     },
     "metadata": {},
     "output_type": "display_data"
    },
    {
     "data": {
      "application/vnd.jupyter.widget-view+json": {
       "model_id": "d00db6d993be411591874d1146a43198",
       "version_major": 2,
       "version_minor": 0
      },
      "text/plain": [
       "Validation: |                                                                                     | 0/? [00:00…"
      ]
     },
     "metadata": {},
     "output_type": "display_data"
    },
    {
     "data": {
      "application/vnd.jupyter.widget-view+json": {
       "model_id": "e917c474d1674749b4ad406d6aa69624",
       "version_major": 2,
       "version_minor": 0
      },
      "text/plain": [
       "Validation: |                                                                                     | 0/? [00:00…"
      ]
     },
     "metadata": {},
     "output_type": "display_data"
    },
    {
     "data": {
      "application/vnd.jupyter.widget-view+json": {
       "model_id": "34823a2dc6fe41b1aef678b50cca73c7",
       "version_major": 2,
       "version_minor": 0
      },
      "text/plain": [
       "Validation: |                                                                                     | 0/? [00:00…"
      ]
     },
     "metadata": {},
     "output_type": "display_data"
    },
    {
     "data": {
      "application/vnd.jupyter.widget-view+json": {
       "model_id": "3ab104f4863944ca86f239b14dd54dc6",
       "version_major": 2,
       "version_minor": 0
      },
      "text/plain": [
       "Validation: |                                                                                     | 0/? [00:00…"
      ]
     },
     "metadata": {},
     "output_type": "display_data"
    },
    {
     "data": {
      "application/vnd.jupyter.widget-view+json": {
       "model_id": "111f5ee6b4594db7b9054b0d60546ace",
       "version_major": 2,
       "version_minor": 0
      },
      "text/plain": [
       "Validation: |                                                                                     | 0/? [00:00…"
      ]
     },
     "metadata": {},
     "output_type": "display_data"
    },
    {
     "data": {
      "application/vnd.jupyter.widget-view+json": {
       "model_id": "4e6957545ded46e891e5ce6c823c43d3",
       "version_major": 2,
       "version_minor": 0
      },
      "text/plain": [
       "Validation: |                                                                                     | 0/? [00:00…"
      ]
     },
     "metadata": {},
     "output_type": "display_data"
    },
    {
     "data": {
      "application/vnd.jupyter.widget-view+json": {
       "model_id": "2e8ced4cadd043fda7390a52010c2f02",
       "version_major": 2,
       "version_minor": 0
      },
      "text/plain": [
       "Validation: |                                                                                     | 0/? [00:00…"
      ]
     },
     "metadata": {},
     "output_type": "display_data"
    },
    {
     "data": {
      "application/vnd.jupyter.widget-view+json": {
       "model_id": "12cfcb1b3f2148a480262e5192e8c535",
       "version_major": 2,
       "version_minor": 0
      },
      "text/plain": [
       "Validation: |                                                                                     | 0/? [00:00…"
      ]
     },
     "metadata": {},
     "output_type": "display_data"
    },
    {
     "data": {
      "application/vnd.jupyter.widget-view+json": {
       "model_id": "6f6c52bb371742f2baafdaa71969f7f4",
       "version_major": 2,
       "version_minor": 0
      },
      "text/plain": [
       "Validation: |                                                                                     | 0/? [00:00…"
      ]
     },
     "metadata": {},
     "output_type": "display_data"
    },
    {
     "data": {
      "application/vnd.jupyter.widget-view+json": {
       "model_id": "a87c444c492845478be0aeb9d39bf3e6",
       "version_major": 2,
       "version_minor": 0
      },
      "text/plain": [
       "Validation: |                                                                                     | 0/? [00:00…"
      ]
     },
     "metadata": {},
     "output_type": "display_data"
    },
    {
     "data": {
      "application/vnd.jupyter.widget-view+json": {
       "model_id": "f67c5ca4874b422899c038c9ff05c748",
       "version_major": 2,
       "version_minor": 0
      },
      "text/plain": [
       "Validation: |                                                                                     | 0/? [00:00…"
      ]
     },
     "metadata": {},
     "output_type": "display_data"
    },
    {
     "data": {
      "application/vnd.jupyter.widget-view+json": {
       "model_id": "dd1e24432653461a84b2a6f77a976a22",
       "version_major": 2,
       "version_minor": 0
      },
      "text/plain": [
       "Validation: |                                                                                     | 0/? [00:00…"
      ]
     },
     "metadata": {},
     "output_type": "display_data"
    },
    {
     "data": {
      "application/vnd.jupyter.widget-view+json": {
       "model_id": "766e5c74e38c4318b345b27126f880e6",
       "version_major": 2,
       "version_minor": 0
      },
      "text/plain": [
       "Validation: |                                                                                     | 0/? [00:00…"
      ]
     },
     "metadata": {},
     "output_type": "display_data"
    },
    {
     "data": {
      "application/vnd.jupyter.widget-view+json": {
       "model_id": "ec37ee042c0b448faf06c625f70218ee",
       "version_major": 2,
       "version_minor": 0
      },
      "text/plain": [
       "Validation: |                                                                                     | 0/? [00:00…"
      ]
     },
     "metadata": {},
     "output_type": "display_data"
    },
    {
     "data": {
      "application/vnd.jupyter.widget-view+json": {
       "model_id": "a4ff0aa7859842dbbf6d790c1f61d797",
       "version_major": 2,
       "version_minor": 0
      },
      "text/plain": [
       "Validation: |                                                                                     | 0/? [00:00…"
      ]
     },
     "metadata": {},
     "output_type": "display_data"
    },
    {
     "data": {
      "application/vnd.jupyter.widget-view+json": {
       "model_id": "c3c00e518b5a4b1db386a34cf3d8565e",
       "version_major": 2,
       "version_minor": 0
      },
      "text/plain": [
       "Validation: |                                                                                     | 0/? [00:00…"
      ]
     },
     "metadata": {},
     "output_type": "display_data"
    },
    {
     "data": {
      "application/vnd.jupyter.widget-view+json": {
       "model_id": "572b5b4c48f14b21831a14468e9324d9",
       "version_major": 2,
       "version_minor": 0
      },
      "text/plain": [
       "Validation: |                                                                                     | 0/? [00:00…"
      ]
     },
     "metadata": {},
     "output_type": "display_data"
    },
    {
     "data": {
      "application/vnd.jupyter.widget-view+json": {
       "model_id": "ce33633943e3408c9769e00152dda08c",
       "version_major": 2,
       "version_minor": 0
      },
      "text/plain": [
       "Validation: |                                                                                     | 0/? [00:00…"
      ]
     },
     "metadata": {},
     "output_type": "display_data"
    },
    {
     "data": {
      "application/vnd.jupyter.widget-view+json": {
       "model_id": "28b5d9f69c5c46f980404a6d97dbaf98",
       "version_major": 2,
       "version_minor": 0
      },
      "text/plain": [
       "Validation: |                                                                                     | 0/? [00:00…"
      ]
     },
     "metadata": {},
     "output_type": "display_data"
    },
    {
     "data": {
      "application/vnd.jupyter.widget-view+json": {
       "model_id": "a7a9e47818b544aa827bf6b48091e1ab",
       "version_major": 2,
       "version_minor": 0
      },
      "text/plain": [
       "Validation: |                                                                                     | 0/? [00:00…"
      ]
     },
     "metadata": {},
     "output_type": "display_data"
    },
    {
     "data": {
      "application/vnd.jupyter.widget-view+json": {
       "model_id": "785378bb349246178fcb194c1b7f786d",
       "version_major": 2,
       "version_minor": 0
      },
      "text/plain": [
       "Validation: |                                                                                     | 0/? [00:00…"
      ]
     },
     "metadata": {},
     "output_type": "display_data"
    },
    {
     "data": {
      "application/vnd.jupyter.widget-view+json": {
       "model_id": "a75d2135daba49f98a73c554e16d1e06",
       "version_major": 2,
       "version_minor": 0
      },
      "text/plain": [
       "Validation: |                                                                                     | 0/? [00:00…"
      ]
     },
     "metadata": {},
     "output_type": "display_data"
    },
    {
     "data": {
      "application/vnd.jupyter.widget-view+json": {
       "model_id": "ee3f5b7044ab4e8e898e46641feca222",
       "version_major": 2,
       "version_minor": 0
      },
      "text/plain": [
       "Validation: |                                                                                     | 0/? [00:00…"
      ]
     },
     "metadata": {},
     "output_type": "display_data"
    },
    {
     "data": {
      "application/vnd.jupyter.widget-view+json": {
       "model_id": "e961fef3e60c4bd6a515043c86974b45",
       "version_major": 2,
       "version_minor": 0
      },
      "text/plain": [
       "Validation: |                                                                                     | 0/? [00:00…"
      ]
     },
     "metadata": {},
     "output_type": "display_data"
    },
    {
     "data": {
      "application/vnd.jupyter.widget-view+json": {
       "model_id": "3b42a2e98de84d65bf40a1fdb8687f13",
       "version_major": 2,
       "version_minor": 0
      },
      "text/plain": [
       "Validation: |                                                                                     | 0/? [00:00…"
      ]
     },
     "metadata": {},
     "output_type": "display_data"
    },
    {
     "data": {
      "application/vnd.jupyter.widget-view+json": {
       "model_id": "cc90c5146b6e4b60b22dfa541bc3bc1f",
       "version_major": 2,
       "version_minor": 0
      },
      "text/plain": [
       "Validation: |                                                                                     | 0/? [00:00…"
      ]
     },
     "metadata": {},
     "output_type": "display_data"
    },
    {
     "data": {
      "application/vnd.jupyter.widget-view+json": {
       "model_id": "c5b45fea4641471e915bbddba7eaf775",
       "version_major": 2,
       "version_minor": 0
      },
      "text/plain": [
       "Validation: |                                                                                     | 0/? [00:00…"
      ]
     },
     "metadata": {},
     "output_type": "display_data"
    },
    {
     "data": {
      "application/vnd.jupyter.widget-view+json": {
       "model_id": "785a1dc075334115ae805665ac781636",
       "version_major": 2,
       "version_minor": 0
      },
      "text/plain": [
       "Validation: |                                                                                     | 0/? [00:00…"
      ]
     },
     "metadata": {},
     "output_type": "display_data"
    },
    {
     "data": {
      "application/vnd.jupyter.widget-view+json": {
       "model_id": "9dc78350cc43481ebdf2f3851e4e73cb",
       "version_major": 2,
       "version_minor": 0
      },
      "text/plain": [
       "Validation: |                                                                                     | 0/? [00:00…"
      ]
     },
     "metadata": {},
     "output_type": "display_data"
    },
    {
     "data": {
      "application/vnd.jupyter.widget-view+json": {
       "model_id": "cb8c49fb242b40e3b983b05cc9c0116b",
       "version_major": 2,
       "version_minor": 0
      },
      "text/plain": [
       "Validation: |                                                                                     | 0/? [00:00…"
      ]
     },
     "metadata": {},
     "output_type": "display_data"
    },
    {
     "data": {
      "application/vnd.jupyter.widget-view+json": {
       "model_id": "d518fbca217b432f861a5e7f84cb2c13",
       "version_major": 2,
       "version_minor": 0
      },
      "text/plain": [
       "Validation: |                                                                                     | 0/? [00:00…"
      ]
     },
     "metadata": {},
     "output_type": "display_data"
    },
    {
     "data": {
      "application/vnd.jupyter.widget-view+json": {
       "model_id": "b5c3fdba90c74f81b088a2773ec476ba",
       "version_major": 2,
       "version_minor": 0
      },
      "text/plain": [
       "Validation: |                                                                                     | 0/? [00:00…"
      ]
     },
     "metadata": {},
     "output_type": "display_data"
    },
    {
     "data": {
      "application/vnd.jupyter.widget-view+json": {
       "model_id": "96e1185e613c4a1a9a1247b12567344c",
       "version_major": 2,
       "version_minor": 0
      },
      "text/plain": [
       "Validation: |                                                                                     | 0/? [00:00…"
      ]
     },
     "metadata": {},
     "output_type": "display_data"
    },
    {
     "data": {
      "application/vnd.jupyter.widget-view+json": {
       "model_id": "b192aacec79a4f2496229b1234f25d83",
       "version_major": 2,
       "version_minor": 0
      },
      "text/plain": [
       "Validation: |                                                                                     | 0/? [00:00…"
      ]
     },
     "metadata": {},
     "output_type": "display_data"
    },
    {
     "data": {
      "application/vnd.jupyter.widget-view+json": {
       "model_id": "cdcdf3a15b4443999bd4c977f6733f22",
       "version_major": 2,
       "version_minor": 0
      },
      "text/plain": [
       "Validation: |                                                                                     | 0/? [00:00…"
      ]
     },
     "metadata": {},
     "output_type": "display_data"
    },
    {
     "data": {
      "application/vnd.jupyter.widget-view+json": {
       "model_id": "acb9113c9f5147ceb6adce50b10b6954",
       "version_major": 2,
       "version_minor": 0
      },
      "text/plain": [
       "Validation: |                                                                                     | 0/? [00:00…"
      ]
     },
     "metadata": {},
     "output_type": "display_data"
    },
    {
     "data": {
      "application/vnd.jupyter.widget-view+json": {
       "model_id": "a4fe570aa64140a8954bef36f0bb02e1",
       "version_major": 2,
       "version_minor": 0
      },
      "text/plain": [
       "Validation: |                                                                                     | 0/? [00:00…"
      ]
     },
     "metadata": {},
     "output_type": "display_data"
    },
    {
     "data": {
      "application/vnd.jupyter.widget-view+json": {
       "model_id": "64878a331abc45319d885d930f13db92",
       "version_major": 2,
       "version_minor": 0
      },
      "text/plain": [
       "Validation: |                                                                                     | 0/? [00:00…"
      ]
     },
     "metadata": {},
     "output_type": "display_data"
    },
    {
     "data": {
      "application/vnd.jupyter.widget-view+json": {
       "model_id": "0f8550786fa24cfbb15ad74a7b5dd1f0",
       "version_major": 2,
       "version_minor": 0
      },
      "text/plain": [
       "Validation: |                                                                                     | 0/? [00:00…"
      ]
     },
     "metadata": {},
     "output_type": "display_data"
    },
    {
     "data": {
      "application/vnd.jupyter.widget-view+json": {
       "model_id": "9cf47c9815f444e588a556229ca0c2ee",
       "version_major": 2,
       "version_minor": 0
      },
      "text/plain": [
       "Validation: |                                                                                     | 0/? [00:00…"
      ]
     },
     "metadata": {},
     "output_type": "display_data"
    },
    {
     "data": {
      "application/vnd.jupyter.widget-view+json": {
       "model_id": "bbe932d1194a44b5aeacce6297b01f54",
       "version_major": 2,
       "version_minor": 0
      },
      "text/plain": [
       "Validation: |                                                                                     | 0/? [00:00…"
      ]
     },
     "metadata": {},
     "output_type": "display_data"
    },
    {
     "data": {
      "application/vnd.jupyter.widget-view+json": {
       "model_id": "5d85b7e5fa6a46c39b9c5f6dc1482f4b",
       "version_major": 2,
       "version_minor": 0
      },
      "text/plain": [
       "Validation: |                                                                                     | 0/? [00:00…"
      ]
     },
     "metadata": {},
     "output_type": "display_data"
    },
    {
     "data": {
      "application/vnd.jupyter.widget-view+json": {
       "model_id": "",
       "version_major": 2,
       "version_minor": 0
      },
      "text/plain": [
       "Validation: |                                                                                     | 0/? [00:00…"
      ]
     },
     "metadata": {},
     "output_type": "display_data"
    },
    {
     "data": {
      "application/vnd.jupyter.widget-view+json": {
       "model_id": "",
       "version_major": 2,
       "version_minor": 0
      },
      "text/plain": [
       "Validation: |                                                                                     | 0/? [00:00…"
      ]
     },
     "metadata": {},
     "output_type": "display_data"
    },
    {
     "data": {
      "application/vnd.jupyter.widget-view+json": {
       "model_id": "",
       "version_major": 2,
       "version_minor": 0
      },
      "text/plain": [
       "Validation: |                                                                                     | 0/? [00:00…"
      ]
     },
     "metadata": {},
     "output_type": "display_data"
    },
    {
     "data": {
      "application/vnd.jupyter.widget-view+json": {
       "model_id": "",
       "version_major": 2,
       "version_minor": 0
      },
      "text/plain": [
       "Validation: |                                                                                     | 0/? [00:00…"
      ]
     },
     "metadata": {},
     "output_type": "display_data"
    },
    {
     "name": "stdout",
     "output_type": "stream",
     "text": [
      "`Trainer.fit` stopped: `max_epochs=100` reached.\n",
      "Files already downloaded and verified\n",
      "Files already downloaded and verified\n",
      "Restoring states from the checkpoint path at /home/ajkdrag/workspace/projects/object-detection-impl/experiments/CIFAR10/model_checkpoints/epoch=99-valid_accuracy=0.874000.ckpt\n"
     ]
    },
    {
     "name": "stderr",
     "output_type": "stream",
     "text": [
      "INFO: LOCAL_RANK: 0 - CUDA_VISIBLE_DEVICES: [0]\n"
     ]
    },
    {
     "name": "stdout",
     "output_type": "stream",
     "text": [
      "Loaded model weights from the checkpoint at /home/ajkdrag/workspace/projects/object-detection-impl/experiments/CIFAR10/model_checkpoints/epoch=99-valid_accuracy=0.874000.ckpt\n"
     ]
    },
    {
     "data": {
      "application/vnd.jupyter.widget-view+json": {
       "model_id": "93e5fabce8f0491487b5cff826b2870a",
       "version_major": 2,
       "version_minor": 0
      },
      "text/plain": [
       "Testing: |                                                                                        | 0/? [00:00…"
      ]
     },
     "metadata": {},
     "output_type": "display_data"
    },
    {
     "name": "stdout",
     "output_type": "stream",
     "text": [
      "────────────────────────────────────────────────────────────────────────────────────────────────────────────────────────\n",
      "       Test metric             DataLoader 0\n",
      "────────────────────────────────────────────────────────────────────────────────────────────────────────────────────────\n",
      "      test_accuracy         0.8634999990463257\n",
      "      test_f1_score         0.8627893328666687\n",
      "────────────────────────────────────────────────────────────────────────────────────────────────────────────────────────\n",
      "2024-06-16T11:13:19.603581Z [info     ] root_dir = PosixPath('/home/ajkdrag/workspace/projects/object-detection-impl/experiments/CIFAR10') func_name=_run lineno=51\n"
     ]
    }
   ],
   "source": [
    "_run(cfg)"
   ]
  },
  {
   "cell_type": "code",
   "execution_count": 27,
   "id": "29677be8-d4d9-44fa-b36b-e088bea7f8b3",
   "metadata": {},
   "outputs": [
    {
     "name": "stdout",
     "output_type": "stream",
     "text": [
      "2024-06-12T05:12:04.705571Z [info     ] **** Running predict func **** func_name=_run lineno=36\n",
      "Files already downloaded and verified\n",
      "Files already downloaded and verified\n",
      "torch.Size([32, 3, 140, 120])\n"
     ]
    }
   ],
   "source": [
    "for idx, out in enumerate(pred_run(cfg)):\n",
    "    if idx == 0:\n",
    "        print(out.shape)\n",
    "        break"
   ]
  },
  {
   "cell_type": "code",
   "execution_count": 33,
   "id": "a2bc8e97-55f4-41b9-8540-67826673c89c",
   "metadata": {},
   "outputs": [
    {
     "data": {
      "image/jpeg": "[encoded data removed]",
      "image/png": "[encoded data removed]",
      "text/plain": [
       "<PIL.Image.Image image mode=RGB size=120x140>"
      ]
     },
     "execution_count": 33,
     "metadata": {},
     "output_type": "execute_result"
    }
   ],
   "source": [
    "to_pil_image(out[9])"
   ]
  },
  {
   "cell_type": "code",
   "execution_count": null,
   "id": "2a3f8962-b21c-44d5-8405-ea69a99a9504",
   "metadata": {},
   "outputs": [],
   "source": []
  },
  {
   "cell_type": "markdown",
   "id": "70014ed6-0db8-4130-ba06-8e0acccc79b2",
   "metadata": {},
   "source": [
    "## exp"
   ]
  },
  {
   "cell_type": "code",
   "execution_count": 27,
   "id": "db9ac0fd-62a3-4f36-b0cc-35c9c10e395a",
   "metadata": {},
   "outputs": [],
   "source": [
    "import torch\n",
    "from torch import einsum"
   ]
  },
  {
   "cell_type": "code",
   "execution_count": 28,
   "id": "a4107e82-e701-4f0f-9df9-bb9aeb47bbae",
   "metadata": {},
   "outputs": [],
   "source": [
    "ip = torch.rand([2, 3, 32, 32])"
   ]
  },
  {
   "cell_type": "code",
   "execution_count": 51,
   "id": "5aece853-0963-47a5-9ee1-2c69c2d7a2d5",
   "metadata": {},
   "outputs": [
    {
     "name": "stdout",
     "output_type": "stream",
     "text": [
      "Reloading 'object_detection_impl.models.nets.t2t'.\n",
      "Reloading 'object_detection_impl.models.nets.vit'.\n"
     ]
    }
   ],
   "source": [
    "from object_detection_impl.models.nets.vit import ViTTiny\n",
    "from object_detection_impl.models.nets.convmixer import ConvMixerTiny\n",
    "from object_detection_impl.models.blocks.attentions import LearnablePositionEnc\n",
    "from object_detection_impl.models.nets.t2t import T2TViT"
   ]
  },
  {
   "cell_type": "code",
   "execution_count": 52,
   "id": "8de70e16-9d0a-4d61-8885-6231c42d36bf",
   "metadata": {},
   "outputs": [
    {
     "name": "stdout",
     "output_type": "stream",
     "text": [
      "{'general': {'logs_folder_name': 'logs', 'root_dir': '/home/ajkdrag/workspace/projects/object-detection-impl/experiments', 'workspace': 'ajkdrag', 'project_name': 'od-impl', 'device': 'cuda', 'exp_name': '${datamodule.dataset.name}'}, 'datamodule': {'path': '/home/ajkdrag/workspace/projects/object-detection-impl/data/cifar10', 'class_name': 'datamodules.tv_clf_dm.TorchvisionClfDatamodule', 'dataset': {'class_name': 'datasets.tv_clf_ds.TorchvisionClfDataset', 'name': 'CIFAR10', 'mean': [0.4914, 0.4822, 0.4465], 'std': [0.2471, 0.2435, 0.2616], 'n_classes': 10}, 'num_workers': 2, 'batch_size': '${training.bs}', 'test_batch_size': 32, 'pin_memory': True, 'splits': [0.7, 0.3]}, 'augmentation': {'train': [{'class_name': 'albumentations.RandomResizedCrop', 'params': {'height': '${model.input_size}', 'width': '${model.input_size}', 'scale': [0.75, 1], 'ratio': [0.75, 1.2], 'p': 0.5}}, {'class_name': 'albumentations.HorizontalFlip', 'params': {'p': 0.5}}, {'class_name': 'albumentations.ShiftScaleRotate', 'params': {'shift_limit': 0.2, 'scale_limit': 0.1, 'rotate_limit': 20, 'p': 0.5}}, {'class_name': 'albumentations.ColorJitter', 'params': {'brightness': 0.2, 'contrast': 0.3, 'saturation': 0.2, 'hue': 0.2, 'p': 1.0}}, {'class_name': 'albumentations.CoarseDropout', 'params': {'num_holes_range': [1, 2], 'hole_height_range': [8, 12], 'hole_width_range': [8, 12], 'fill_value': 120, 'p': 0.25}}, {'class_name': 'albumentations.Normalize', 'params': {'mean': '${datamodule.dataset.mean}', 'std': '${datamodule.dataset.std}', 'p': 1.0}}, {'class_name': 'albumentations.pytorch.transforms.ToTensorV2', 'params': {'p': 1.0}}], 'val': [{'class_name': 'albumentations.Normalize', 'params': {'mean': '${datamodule.dataset.mean}', 'std': '${datamodule.dataset.std}', 'p': 1.0}}, {'class_name': 'albumentations.pytorch.transforms.ToTensorV2', 'params': {'p': 1.0}}]}, 'training': {'lr': 0.005, 'wd': 5e-05, 'bs': 64, 'epochs': 200, 'seed': 666, 'debug': False, 'mode': 'max', 'monitor': '${metric._primary}', 'lit_model': {'class_name': 'lit_models.image_clf.LitImageClassifier'}, 'trainer_params': {'devices': 1, 'accelerator': 'gpu', 'precision': 16, 'profiler': False, 'max_epochs': '${training.epochs}', 'log_every_n_steps': 50, 'num_sanity_val_steps': 0, 'check_val_every_n_epoch': 1, 'default_root_dir': '${general.root_dir}'}}, 'predict': {'checkpoint': 'model_checkpoints/epoch=28-valid_accuracy=0.906733.ckpt', 'postprocessor': {'func_name': 'postprocessor.tv_clf_pp.postprocess', 'params': {'label_h': 20, 'size': 120}}}, 'model': {'class_name': 'models.nets.vit.ViTTiny', 'input_size': 32, 'stem': {'class_name': 'models.stems.patch.T2TPatch', 'params': {'kernel_sizes': [3, 3], 'strides': [2, 2]}}, 'neck': {'class_name': 'models.necks.patch.PatchNorm'}, 'head': {'class_name': 'models.heads.fc.FullyConnectedHead', 'params': {'layer_units': ['${datamodule.dataset.n_classes}'], 'activations': ['id'], 'dropout_rates': [0.0]}}}, 'optimizer': {'class_name': 'torch.optim.AdamW', 'params': {'lr': '${training.lr}', 'weight_decay': '${training.wd}'}}, 'scheduler': {'class_name': 'torch.optim.lr_scheduler.OneCycleLR', 'step': 'step', 'monitor': 'train_${training.monitor}', 'params': {'max_lr': '${training.lr}', 'total_steps': None}}, 'loss': {'class_name': 'torch.nn.CrossEntropyLoss', 'params': {'label_smoothing': 0.1}}, 'metric': {'accuracy': {'class_name': 'torchmetrics.Accuracy', 'params': {'task': 'multiclass', 'threshold': 0.5, 'num_classes': '${datamodule.dataset.n_classes}', 'top_k': 1}}, 'f1_score': {'class_name': 'torchmetrics.F1Score', 'params': {'task': 'multiclass', 'average': 'weighted', 'num_classes': '${datamodule.dataset.n_classes}'}}, '_primary': 'accuracy'}, 'callback': {'model_checkpoint': {'class_name': 'lightning.pytorch.callbacks.ModelCheckpoint', 'params': {'monitor': 'valid_${training.monitor}', 'save_top_k': 1, 'dirpath': 'model_checkpoints', 'filename': '{epoch}-{valid_${training.monitor}:.6f}', 'mode': '${training.mode}'}}, 'vis_dls': {'class_name': 'callbacks.vis_dls.VisualizeDlsCallback', 'params': {'num_samples': 8, 'dirpath': 'dls', 'scale': 4}}}, 'logging': {'log': True, 'loggers': [{'class_name': 'pytorch_lightning.loggers.CSVLogger', 'params': {'save_dir': '${general.root_dir}', 'name': '${general.exp_name}/logs'}}]}}\n"
     ]
    }
   ],
   "source": [
    "cfg = load_config()"
   ]
  },
  {
   "cell_type": "code",
   "execution_count": 57,
   "id": "2af9ba29-6842-4263-a728-ccf731d8ed36",
   "metadata": {},
   "outputs": [
    {
     "name": "stdout",
     "output_type": "stream",
     "text": [
      "Reloading 'object_detection_impl.models.nets.t2t'.\n"
     ]
    }
   ],
   "source": [
    "blk = T2TViT(cfg, image_size=32)"
   ]
  },
  {
   "cell_type": "code",
   "execution_count": 58,
   "id": "499d8cb3-1e35-4981-a53a-b89e6180bfc8",
   "metadata": {},
   "outputs": [
    {
     "data": {
      "text/plain": [
       "T2TViT(\n",
       "  (to_patch_embedding): Sequential(\n",
       "    (0): Identity()\n",
       "    (1): Unfold(kernel_size=3, dilation=1, padding=1, stride=2)\n",
       "    (2): Rearrange('b c n -> b n c')\n",
       "    (3): Transformer(\n",
       "      (norm): LayerNorm((27,), eps=1e-05, elementwise_affine=True)\n",
       "      (layers): ModuleList(\n",
       "        (0): ModuleList(\n",
       "          (0): Attention(\n",
       "            (norm): LayerNorm((27,), eps=1e-05, elementwise_affine=True)\n",
       "            (attend): Softmax(dim=-1)\n",
       "            (dropout): Dropout(p=0.0, inplace=False)\n",
       "            (to_qkv): Linear(in_features=27, out_features=81, bias=False)\n",
       "            (to_out): Identity()\n",
       "          )\n",
       "          (1): FeedForward(\n",
       "            (net): Sequential(\n",
       "              (0): LayerNorm((27,), eps=1e-05, elementwise_affine=True)\n",
       "              (1): Linear(in_features=27, out_features=27, bias=True)\n",
       "              (2): GELU(approximate='none')\n",
       "              (3): Dropout(p=0.0, inplace=False)\n",
       "              (4): Linear(in_features=27, out_features=27, bias=True)\n",
       "              (5): Dropout(p=0.0, inplace=False)\n",
       "            )\n",
       "          )\n",
       "        )\n",
       "      )\n",
       "    )\n",
       "    (4): RearrangeImage()\n",
       "    (5): Unfold(kernel_size=3, dilation=1, padding=1, stride=2)\n",
       "    (6): Rearrange('b c n -> b n c')\n",
       "    (7): Identity()\n",
       "    (8): Linear(in_features=243, out_features=64, bias=True)\n",
       "  )\n",
       "  (dropout): Dropout(p=0.0, inplace=False)\n",
       "  (transformer): Transformer(\n",
       "    (norm): LayerNorm((64,), eps=1e-05, elementwise_affine=True)\n",
       "    (layers): ModuleList(\n",
       "      (0-7): 8 x ModuleList(\n",
       "        (0): Attention(\n",
       "          (norm): LayerNorm((64,), eps=1e-05, elementwise_affine=True)\n",
       "          (attend): Softmax(dim=-1)\n",
       "          (dropout): Dropout(p=0.0, inplace=False)\n",
       "          (to_qkv): Linear(in_features=64, out_features=384, bias=False)\n",
       "          (to_out): Sequential(\n",
       "            (0): Linear(in_features=128, out_features=64, bias=True)\n",
       "            (1): Dropout(p=0.0, inplace=False)\n",
       "          )\n",
       "        )\n",
       "        (1): FeedForward(\n",
       "          (net): Sequential(\n",
       "            (0): LayerNorm((64,), eps=1e-05, elementwise_affine=True)\n",
       "            (1): Linear(in_features=64, out_features=64, bias=True)\n",
       "            (2): GELU(approximate='none')\n",
       "            (3): Dropout(p=0.0, inplace=False)\n",
       "            (4): Linear(in_features=64, out_features=64, bias=True)\n",
       "            (5): Dropout(p=0.0, inplace=False)\n",
       "          )\n",
       "        )\n",
       "      )\n",
       "    )\n",
       "  )\n",
       "  (to_latent): Identity()\n",
       "  (mlp_head): Linear(in_features=64, out_features=10, bias=True)\n",
       ")"
      ]
     },
     "execution_count": 58,
     "metadata": {},
     "output_type": "execute_result"
    }
   ],
   "source": [
    "blk"
   ]
  },
  {
   "cell_type": "code",
   "execution_count": 59,
   "id": "22055c05-a079-4d06-8234-dc2dc830a308",
   "metadata": {},
   "outputs": [],
   "source": [
    "model_ = ViTTiny(cfg)"
   ]
  },
  {
   "cell_type": "code",
   "execution_count": 60,
   "id": "c8cf7558-ec97-47fa-adb5-2356a4a92fa4",
   "metadata": {},
   "outputs": [
    {
     "data": {
      "text/plain": [
       "ViTTiny(\n",
       "  (stem): T2TPatch(\n",
       "    (block): Sequential(\n",
       "      (0): UnflattenLayer()\n",
       "      (1): Unfold(kernel_size=3, dilation=1, padding=1, stride=2)\n",
       "      (2): Rearrange('n c p -> n p c')\n",
       "      (3): MultiHead_SA(\n",
       "        (norm): LayerNorm((27,), eps=1e-05, elementwise_affine=True)\n",
       "        (stem): FlattenLayer()\n",
       "        (mha): MultiheadAttention(\n",
       "          (out_proj): NonDynamicallyQuantizableLinear(in_features=27, out_features=27, bias=True)\n",
       "        )\n",
       "        (shortcut): ShortcutLayer(\n",
       "          (shortcut): Identity()\n",
       "        )\n",
       "        (mlp): Sequential(\n",
       "          (0): LayerNorm((27,), eps=1e-05, elementwise_affine=True)\n",
       "          (1): ExpansionFCLayer(\n",
       "            (0): BasicFCLayer(\n",
       "              (block): Sequential(\n",
       "                (0): Linear(in_features=27, out_features=27, bias=True)\n",
       "                (1): GELU(approximate='none')\n",
       "              )\n",
       "            )\n",
       "            (1): BasicFCLayer(\n",
       "              (block): Sequential(\n",
       "                (0): Linear(in_features=27, out_features=27, bias=True)\n",
       "                (1): Identity()\n",
       "              )\n",
       "            )\n",
       "          )\n",
       "        )\n",
       "      )\n",
       "      (4): UnflattenLayer()\n",
       "      (5): Unfold(kernel_size=3, dilation=1, padding=1, stride=2)\n",
       "      (6): Rearrange('n c p -> n p c')\n",
       "      (7): Identity()\n",
       "      (8): Linear(in_features=243, out_features=64, bias=True)\n",
       "      (9): UnflattenLayer()\n",
       "    )\n",
       "  )\n",
       "  (trunk): Sequential(\n",
       "    (0): Rearrange('n d h w -> n (h w) d')\n",
       "    (1): LearnablePositionEnc()\n",
       "    (2): MultiHead_SA(\n",
       "      (norm): LayerNorm((64,), eps=1e-05, elementwise_affine=True)\n",
       "      (stem): FlattenLayer()\n",
       "      (mha): MultiheadAttention(\n",
       "        (out_proj): NonDynamicallyQuantizableLinear(in_features=64, out_features=64, bias=True)\n",
       "      )\n",
       "      (shortcut): ShortcutLayer(\n",
       "        (shortcut): Identity()\n",
       "      )\n",
       "      (mlp): Sequential(\n",
       "        (0): LayerNorm((64,), eps=1e-05, elementwise_affine=True)\n",
       "        (1): ExpansionFCLayer(\n",
       "          (0): BasicFCLayer(\n",
       "            (block): Sequential(\n",
       "              (0): Linear(in_features=64, out_features=64, bias=True)\n",
       "              (1): GELU(approximate='none')\n",
       "            )\n",
       "          )\n",
       "          (1): BasicFCLayer(\n",
       "            (block): Sequential(\n",
       "              (0): Linear(in_features=64, out_features=64, bias=True)\n",
       "              (1): Identity()\n",
       "            )\n",
       "          )\n",
       "        )\n",
       "      )\n",
       "    )\n",
       "    (3): MultiHead_SA(\n",
       "      (norm): LayerNorm((64,), eps=1e-05, elementwise_affine=True)\n",
       "      (stem): FlattenLayer()\n",
       "      (mha): MultiheadAttention(\n",
       "        (out_proj): NonDynamicallyQuantizableLinear(in_features=64, out_features=64, bias=True)\n",
       "      )\n",
       "      (shortcut): ShortcutLayer(\n",
       "        (shortcut): Identity()\n",
       "      )\n",
       "      (mlp): Sequential(\n",
       "        (0): LayerNorm((64,), eps=1e-05, elementwise_affine=True)\n",
       "        (1): ExpansionFCLayer(\n",
       "          (0): BasicFCLayer(\n",
       "            (block): Sequential(\n",
       "              (0): Linear(in_features=64, out_features=64, bias=True)\n",
       "              (1): GELU(approximate='none')\n",
       "            )\n",
       "          )\n",
       "          (1): BasicFCLayer(\n",
       "            (block): Sequential(\n",
       "              (0): Linear(in_features=64, out_features=64, bias=True)\n",
       "              (1): Identity()\n",
       "            )\n",
       "          )\n",
       "        )\n",
       "      )\n",
       "    )\n",
       "  )\n",
       "  (neck): PatchNorm(\n",
       "    (block): Sequential(\n",
       "      (0): LayerNorm((64,), eps=1e-05, elementwise_affine=True)\n",
       "      (1): Reduce('n p c -> n c', 'mean')\n",
       "    )\n",
       "  )\n",
       "  (head): FullyConnectedHead(\n",
       "    (block): Sequential(\n",
       "      (0): BasicFCLayer(\n",
       "        (block): Sequential(\n",
       "          (0): Flatten(start_dim=1, end_dim=-1)\n",
       "          (1): Linear(in_features=64, out_features=10, bias=True)\n",
       "          (2): Identity()\n",
       "        )\n",
       "      )\n",
       "    )\n",
       "  )\n",
       ")"
      ]
     },
     "execution_count": 60,
     "metadata": {},
     "output_type": "execute_result"
    }
   ],
   "source": [
    "model_"
   ]
  },
  {
   "cell_type": "code",
   "execution_count": null,
   "id": "41f67bea-0bfc-477a-be6e-a2612a55f991",
   "metadata": {},
   "outputs": [],
   "source": []
  },
  {
   "cell_type": "code",
   "execution_count": null,
   "id": "f842e119-c450-4c8c-831f-d42941f61ac3",
   "metadata": {},
   "outputs": [],
   "source": []
  },
  {
   "cell_type": "code",
   "execution_count": null,
   "id": "32894ea0-3119-4a0f-9914-93218351787b",
   "metadata": {},
   "outputs": [],
   "source": []
  },
  {
   "cell_type": "code",
   "execution_count": 49,
   "id": "56fe7800-d4d5-403d-be5b-a6767baa0f7d",
   "metadata": {},
   "outputs": [],
   "source": [
    "x = blk(ip)"
   ]
  },
  {
   "cell_type": "code",
   "execution_count": 50,
   "id": "a9d53440-b5e6-43d2-b46b-f25848709962",
   "metadata": {},
   "outputs": [
    {
     "data": {
      "text/plain": [
       "torch.Size([2, 10])"
      ]
     },
     "execution_count": 50,
     "metadata": {},
     "output_type": "execute_result"
    }
   ],
   "source": [
    "x.shape"
   ]
  },
  {
   "cell_type": "code",
   "execution_count": 48,
   "id": "95e2bf22-a375-4313-9e33-097625d31001",
   "metadata": {},
   "outputs": [
    {
     "data": {
      "text/plain": [
       "torch.Size([2, 3, 32, 32])"
      ]
     },
     "execution_count": 48,
     "metadata": {},
     "output_type": "execute_result"
    }
   ],
   "source": [
    "ip.shape"
   ]
  },
  {
   "cell_type": "code",
   "execution_count": null,
   "id": "aab4f8fd-64f6-4480-968a-f19aafe6b267",
   "metadata": {},
   "outputs": [],
   "source": []
  },
  {
   "cell_type": "code",
   "execution_count": 157,
   "id": "f126d01a-88d8-42c5-b2a5-f62ed5c7eb3c",
   "metadata": {},
   "outputs": [
    {
     "name": "stdout",
     "output_type": "stream",
     "text": [
      "torch.Size([2, 961])\n"
     ]
    }
   ],
   "source": [
    "out_ = blk(ip)"
   ]
  },
  {
   "cell_type": "code",
   "execution_count": 158,
   "id": "3fff4da1-2fee-4ae8-8ba7-3f878501d6e6",
   "metadata": {},
   "outputs": [
    {
     "data": {
      "text/plain": [
       "torch.Size([2, 10])"
      ]
     },
     "execution_count": 158,
     "metadata": {},
     "output_type": "execute_result"
    }
   ],
   "source": [
    "out_.shape"
   ]
  },
  {
   "cell_type": "code",
   "execution_count": 163,
   "id": "15fb1866-fbe8-4f54-94b9-f3adcb184a05",
   "metadata": {
    "scrolled": true
   },
   "outputs": [
    {
     "name": "stdout",
     "output_type": "stream",
     "text": [
      "Reloading 'object_detection_impl.models.nets.convmixer'.\n"
     ]
    }
   ],
   "source": [
    "from object_detection_impl.models.nets.default import DefaultNet\n",
    "from object_detection_impl.datamodules.tv_clf_dm import TorchvisionClfDatamodule\n",
    "from object_detection_impl.lit_models.image_clf import LitImageClassifier\n",
    "from object_detection_impl.callbacks.vis_dls import VisualizeDlsCallback"
   ]
  },
  {
   "cell_type": "code",
   "execution_count": 164,
   "id": "19a24bb6-f84f-4403-bc44-641fc2ab92f8",
   "metadata": {},
   "outputs": [],
   "source": [
    "from torchvision import transforms"
   ]
  },
  {
   "cell_type": "code",
   "execution_count": 165,
   "id": "003383f1-6683-41e6-94a1-53a2eac5393d",
   "metadata": {},
   "outputs": [],
   "source": [
    "cifar10_mean = (0.4914, 0.4822, 0.4465)\n",
    "cifar10_std = (0.2471, 0.2435, 0.2616)"
   ]
  },
  {
   "cell_type": "code",
   "execution_count": 166,
   "id": "46e110f0-64b9-4240-ad56-5ee8d906532c",
   "metadata": {},
   "outputs": [],
   "source": [
    "import torch"
   ]
  },
  {
   "cell_type": "code",
   "execution_count": 167,
   "id": "c59034fa-ee5c-4d94-be45-a6889bcdf079",
   "metadata": {},
   "outputs": [],
   "source": [
    "ip = torch.rand(2, 3, 32, 32)"
   ]
  },
  {
   "cell_type": "code",
   "execution_count": 301,
   "id": "cf67171f-1bdf-4904-8c85-2c8036638145",
   "metadata": {},
   "outputs": [],
   "source": [
    "cb = VisualizeDlsCallback(scale=4)"
   ]
  },
  {
   "cell_type": "code",
   "execution_count": 315,
   "id": "1335a1b5-9e49-4da9-869d-072d9fee3cc0",
   "metadata": {},
   "outputs": [
    {
     "name": "stdout",
     "output_type": "stream",
     "text": [
      "{'general': {'logs_folder_name': 'logs', 'root_dir': '/home/ajkdrag/workspace/projects/object-detection-impl/experiments', 'workspace': 'ajkdrag', 'project_name': 'od-impl', 'device': 'cuda', 'exp_name': '${datamodule.dataset.name}'}, 'datamodule': {'path': '/home/ajkdrag/workspace/projects/object-detection-impl/data/cifar10', 'class_name': 'datamodules.tv_clf_dm.TorchvisionClfDatamodule', 'dataset': {'class_name': 'datasets.tv_clf_ds.TorchvisionClfDataset', 'name': 'CIFAR10', 'mean': [0.4914, 0.4822, 0.4465], 'std': [0.2471, 0.2435, 0.2616], 'n_classes': 10}, 'num_workers': 2, 'batch_size': '${training.bs}', 'test_batch_size': 32, 'pin_memory': True, 'splits': [0.7, 0.3]}, 'augmentation': {'train': [{'class_name': 'albumentations.RandomResizedCrop', 'params': {'height': '${model.input_size}', 'width': '${model.input_size}', 'scale': [0.65, 1], 'ratio': [0.65, 1.33], 'p': 0.5}}, {'class_name': 'albumentations.HorizontalFlip', 'params': {'p': 0.5}}, {'class_name': 'albumentations.ShiftScaleRotate', 'params': {'shift_limit': 0.3, 'scale_limit': 0.1, 'rotate_limit': 20, 'p': 0.5}}, {'class_name': 'albumentations.ColorJitter', 'params': {'brightness': 0.2, 'contrast': 0.5, 'saturation': 0.2, 'hue': 0.2, 'p': 1.0}}, {'class_name': 'albumentations.CoarseDropout', 'params': {'num_holes_range': [1, 2], 'hole_height_range': [8, 16], 'hole_width_range': [8, 16], 'fill_value': 120, 'p': 0.25}}, {'class_name': 'albumentations.Normalize', 'params': {'mean': '${datamodule.dataset.mean}', 'std': '${datamodule.dataset.std}', 'p': 1.0}}, {'class_name': 'albumentations.pytorch.transforms.ToTensorV2', 'params': {'p': 1.0}}], 'val': [{'class_name': 'albumentations.Normalize', 'params': {'mean': '${datamodule.dataset.mean}', 'std': '${datamodule.dataset.std}', 'p': 1.0}}, {'class_name': 'albumentations.pytorch.transforms.ToTensorV2', 'params': {'p': 1.0}}]}, 'training': {'lr': 0.02, 'wd': 0.0005, 'bs': 128, 'epochs': 30, 'seed': 666, 'debug': False, 'mode': 'max', 'monitor': '${metric._primary}', 'lit_model': {'class_name': 'lit_models.image_clf.LitImageClassifier'}, 'trainer_params': {'devices': 1, 'accelerator': 'gpu', 'precision': 16, 'profiler': False, 'max_epochs': '${training.epochs}', 'log_every_n_steps': 50, 'num_sanity_val_steps': 0, 'check_val_every_n_epoch': 1, 'default_root_dir': '${general.root_dir}'}}, 'predict': {'checkpoint': 'model_checkpoints/epoch=28-valid_accuracy=0.906733.ckpt', 'postprocessor': {'func_name': 'postprocessor.tv_clf_pp.postprocess', 'params': {'label_h': 20, 'size': 120}}}, 'model': {'class_name': 'models.nets.convmixer.ConvMixerTiny', 'input_size': 32, 'stem': {'class_name': 'models.stems.patch.ConvPatch', 'params': {'patch_size': 2}}, 'neck': {'class_name': 'models.necks.patch.PatchNorm'}, 'head': {'class_name': 'models.heads.fc.FullyConnectedHead', 'params': {'layer_units': ['${datamodule.dataset.n_classes}'], 'activations': ['id'], 'dropout_rates': [0.0]}}}, 'optimizer': {'class_name': 'torch.optim.AdamW', 'params': {'lr': '${training.lr}', 'weight_decay': '${training.wd}'}}, 'scheduler': {'class_name': 'torch.optim.lr_scheduler.OneCycleLR', 'step': 'step', 'monitor': 'train_${training.monitor}', 'params': {'max_lr': '${training.lr}', 'total_steps': None}}, 'loss': {'class_name': 'torch.nn.CrossEntropyLoss'}, 'metric': {'accuracy': {'class_name': 'torchmetrics.Accuracy', 'params': {'task': 'multiclass', 'threshold': 0.5, 'num_classes': '${datamodule.dataset.n_classes}', 'top_k': 1}}, 'f1_score': {'class_name': 'torchmetrics.F1Score', 'params': {'task': 'multiclass', 'average': 'weighted', 'num_classes': '${datamodule.dataset.n_classes}'}}, '_primary': 'accuracy'}, 'callback': {'model_checkpoint': {'class_name': 'lightning.pytorch.callbacks.ModelCheckpoint', 'params': {'monitor': 'valid_${training.monitor}', 'save_top_k': 1, 'dirpath': 'model_checkpoints', 'filename': '{epoch}-{valid_${training.monitor}:.6f}', 'mode': '${training.mode}'}}, 'early_stopping': {'class_name': 'lightning.pytorch.callbacks.EarlyStopping', 'params': {'monitor': 'valid_${training.monitor}', 'patience': 8, 'min_delta': 0.001, 'verbose': True, 'mode': '${training.mode}'}}, 'vis_dls': {'class_name': 'callbacks.vis_dls.VisualizeDlsCallback', 'params': {'num_samples': 8, 'dirpath': 'dls', 'scale': 4}}}, 'logging': {'log': True, 'loggers': [{'class_name': 'pytorch_lightning.loggers.CSVLogger', 'params': {'save_dir': '${general.root_dir}', 'name': '${general.exp_name}/logs'}}]}}\n"
     ]
    }
   ],
   "source": [
    "cfg = load_config()"
   ]
  },
  {
   "cell_type": "code",
   "execution_count": 316,
   "id": "25fda2a1-8918-477c-a88d-321cf05cc9e7",
   "metadata": {},
   "outputs": [],
   "source": [
    "dm = TorchvisionClfDatamodule(cfg)"
   ]
  },
  {
   "cell_type": "code",
   "execution_count": 317,
   "id": "58af00af-7bcb-456d-b830-a780047e1d69",
   "metadata": {},
   "outputs": [
    {
     "name": "stdout",
     "output_type": "stream",
     "text": [
      "2024-06-12T07:14:32.500452Z [info     ] train_dataset size: 35000      func_name=setup lineno=77\n",
      "2024-06-12T07:14:32.507075Z [info     ] val_dataset size: 15000        func_name=setup lineno=78\n"
     ]
    }
   ],
   "source": [
    "dm.setup()"
   ]
  },
  {
   "cell_type": "code",
   "execution_count": 318,
   "id": "bc449f91-2851-4927-a6e4-059add2dc940",
   "metadata": {},
   "outputs": [
    {
     "name": "stdout",
     "output_type": "stream",
     "text": [
      "Files already downloaded and verified\n",
      "Files already downloaded and verified\n"
     ]
    }
   ],
   "source": [
    "dm.prepare_data()"
   ]
  },
  {
   "cell_type": "code",
   "execution_count": 319,
   "id": "0d66f5f9-138f-40f0-ab7f-774d217a5c18",
   "metadata": {},
   "outputs": [],
   "source": [
    "test_dls = dm.train_dataloader()"
   ]
  },
  {
   "cell_type": "code",
   "execution_count": 323,
   "id": "ea0de7a7-1228-45be-9ed5-b3f10cd5d3d4",
   "metadata": {},
   "outputs": [],
   "source": [
    "first = next(iter(test_dls))"
   ]
  },
  {
   "cell_type": "code",
   "execution_count": 324,
   "id": "814e535b-bb81-4418-8250-73160a9359d8",
   "metadata": {},
   "outputs": [
    {
     "data": {
      "image/jpeg": "[encoded data removed]",
      "image/png": "[encoded data removed]",
      "text/plain": [
       "<PIL.Image.Image image mode=RGB size=688x144>"
      ]
     },
     "execution_count": 324,
     "metadata": {},
     "output_type": "execute_result"
    }
   ],
   "source": [
    "cb._make_grid(first['image'][:5], fp=None, normalize=True, save=False,)"
   ]
  },
  {
   "cell_type": "code",
   "execution_count": 322,
   "id": "22a700ee-33f3-43d9-b2e1-560a32695de0",
   "metadata": {},
   "outputs": [
    {
     "data": {
      "image/jpeg": "[encoded data removed]",
      "image/png": "[encoded data removed]",
      "text/plain": [
       "<PIL.Image.Image image mode=RGB size=688x144>"
      ]
     },
     "execution_count": 322,
     "metadata": {},
     "output_type": "execute_result"
    }
   ],
   "source": [
    "cb._make_grid(first['image'][:5], fp=None, normalize=True, save=False)"
   ]
  },
  {
   "cell_type": "code",
   "execution_count": null,
   "id": "e1eaf6a7-5b26-46f1-9ad2-b1cd465a61a9",
   "metadata": {},
   "outputs": [],
   "source": []
  },
  {
   "cell_type": "code",
   "execution_count": null,
   "id": "fc9d8142-1bc6-42f3-9de7-df011a55d1c6",
   "metadata": {},
   "outputs": [],
   "source": []
  },
  {
   "cell_type": "code",
   "execution_count": null,
   "id": "ea924f6f-23fc-4498-9b85-d3e6fecbd93f",
   "metadata": {},
   "outputs": [],
   "source": []
  },
  {
   "cell_type": "code",
   "execution_count": 151,
   "id": "1203e595-e71f-4bf3-a7a1-8fc47a4b96f6",
   "metadata": {},
   "outputs": [
    {
     "name": "stdout",
     "output_type": "stream",
     "text": [
      "256\n"
     ]
    }
   ],
   "source": [
    "model_ = LeNetV6(cfg)"
   ]
  },
  {
   "cell_type": "code",
   "execution_count": 152,
   "id": "8cf58733-fb22-48ca-84e6-6a064461defe",
   "metadata": {},
   "outputs": [
    {
     "data": {
      "text/plain": [
       "torch.Size([2, 128, 16, 16])"
      ]
     },
     "execution_count": 152,
     "metadata": {},
     "output_type": "execute_result"
    }
   ],
   "source": [
    "model_.stem(ip).shape"
   ]
  },
  {
   "cell_type": "code",
   "execution_count": 153,
   "id": "31853922-ff2b-4fe2-b2db-dc1328b5486b",
   "metadata": {},
   "outputs": [
    {
     "data": {
      "text/plain": [
       "torch.Size([2, 10])"
      ]
     },
     "execution_count": 153,
     "metadata": {},
     "output_type": "execute_result"
    }
   ],
   "source": [
    "model_(ip).shape"
   ]
  },
  {
   "cell_type": "code",
   "execution_count": 116,
   "id": "dec9fdfd-1a00-410b-87e4-d0213c598b18",
   "metadata": {},
   "outputs": [],
   "source": [
    "blk = PatchStem(3, 16, 4, use_conv=True)"
   ]
  },
  {
   "cell_type": "code",
   "execution_count": 117,
   "id": "28ed28ae-262d-426e-bb5b-b90d79c699ee",
   "metadata": {},
   "outputs": [],
   "source": [
    "out = blk(ip)"
   ]
  },
  {
   "cell_type": "code",
   "execution_count": 145,
   "id": "a22e4c67-8307-407a-b570-8823f2b0175c",
   "metadata": {},
   "outputs": [
    {
     "data": {
      "text/plain": [
       "torch.Size([2, 16, 8, 8])"
      ]
     },
     "execution_count": 145,
     "metadata": {},
     "output_type": "execute_result"
    }
   ],
   "source": [
    "out.shape"
   ]
  },
  {
   "cell_type": "code",
   "execution_count": 144,
   "id": "2bc4b3a4-a3ab-42a8-a3d7-28e64fd11ca3",
   "metadata": {},
   "outputs": [],
   "source": [
    "mixer = MLPMixerBlock(128, 64)"
   ]
  },
  {
   "cell_type": "code",
   "execution_count": 149,
   "id": "b7f97e91-c240-4326-8414-330c539313ee",
   "metadata": {},
   "outputs": [
    {
     "data": {
      "text/plain": [
       "torch.Size([2, 128, 16, 16])"
      ]
     },
     "execution_count": 149,
     "metadata": {},
     "output_type": "execute_result"
    }
   ],
   "source": [
    "torch.randn([2, 128, 16, 16]).shape"
   ]
  },
  {
   "cell_type": "code",
   "execution_count": 148,
   "id": "68ced773-6235-4637-ac7c-222ec7f6cc5f",
   "metadata": {},
   "outputs": [
    {
     "ename": "RuntimeError",
     "evalue": "Given normalized_shape=[16], expected input with shape [*, 16], but got input of size[2, 256, 128]",
     "output_type": "error",
     "traceback": [
      "\u001b[0;31m---------------------------------------------------------------------------\u001b[0m",
      "\u001b[0;31mRuntimeError\u001b[0m                              Traceback (most recent call last)",
      "Cell \u001b[0;32mIn[148], line 1\u001b[0m\n\u001b[0;32m----> 1\u001b[0m mout \u001b[38;5;241m=\u001b[39m \u001b[43mmixer\u001b[49m\u001b[43m(\u001b[49m\u001b[43mtorch\u001b[49m\u001b[38;5;241;43m.\u001b[39;49m\u001b[43mrandn\u001b[49m\u001b[43m(\u001b[49m\u001b[43m[\u001b[49m\u001b[38;5;241;43m2\u001b[39;49m\u001b[43m,\u001b[49m\u001b[43m \u001b[49m\u001b[38;5;241;43m128\u001b[39;49m\u001b[43m,\u001b[49m\u001b[43m \u001b[49m\u001b[38;5;241;43m16\u001b[39;49m\u001b[43m,\u001b[49m\u001b[43m \u001b[49m\u001b[38;5;241;43m16\u001b[39;49m\u001b[43m]\u001b[49m\u001b[43m)\u001b[49m\u001b[43m)\u001b[49m\n",
      "File \u001b[0;32m~/workspace/projects/object-detection-impl/.venv/lib/python3.9/site-packages/torch/nn/modules/module.py:1532\u001b[0m, in \u001b[0;36mModule._wrapped_call_impl\u001b[0;34m(self, *args, **kwargs)\u001b[0m\n\u001b[1;32m   1530\u001b[0m     \u001b[38;5;28;01mreturn\u001b[39;00m \u001b[38;5;28mself\u001b[39m\u001b[38;5;241m.\u001b[39m_compiled_call_impl(\u001b[38;5;241m*\u001b[39margs, \u001b[38;5;241m*\u001b[39m\u001b[38;5;241m*\u001b[39mkwargs)  \u001b[38;5;66;03m# type: ignore[misc]\u001b[39;00m\n\u001b[1;32m   1531\u001b[0m \u001b[38;5;28;01melse\u001b[39;00m:\n\u001b[0;32m-> 1532\u001b[0m     \u001b[38;5;28;01mreturn\u001b[39;00m \u001b[38;5;28;43mself\u001b[39;49m\u001b[38;5;241;43m.\u001b[39;49m\u001b[43m_call_impl\u001b[49m\u001b[43m(\u001b[49m\u001b[38;5;241;43m*\u001b[39;49m\u001b[43margs\u001b[49m\u001b[43m,\u001b[49m\u001b[43m \u001b[49m\u001b[38;5;241;43m*\u001b[39;49m\u001b[38;5;241;43m*\u001b[39;49m\u001b[43mkwargs\u001b[49m\u001b[43m)\u001b[49m\n",
      "File \u001b[0;32m~/workspace/projects/object-detection-impl/.venv/lib/python3.9/site-packages/torch/nn/modules/module.py:1541\u001b[0m, in \u001b[0;36mModule._call_impl\u001b[0;34m(self, *args, **kwargs)\u001b[0m\n\u001b[1;32m   1536\u001b[0m \u001b[38;5;66;03m# If we don't have any hooks, we want to skip the rest of the logic in\u001b[39;00m\n\u001b[1;32m   1537\u001b[0m \u001b[38;5;66;03m# this function, and just call forward.\u001b[39;00m\n\u001b[1;32m   1538\u001b[0m \u001b[38;5;28;01mif\u001b[39;00m \u001b[38;5;129;01mnot\u001b[39;00m (\u001b[38;5;28mself\u001b[39m\u001b[38;5;241m.\u001b[39m_backward_hooks \u001b[38;5;129;01mor\u001b[39;00m \u001b[38;5;28mself\u001b[39m\u001b[38;5;241m.\u001b[39m_backward_pre_hooks \u001b[38;5;129;01mor\u001b[39;00m \u001b[38;5;28mself\u001b[39m\u001b[38;5;241m.\u001b[39m_forward_hooks \u001b[38;5;129;01mor\u001b[39;00m \u001b[38;5;28mself\u001b[39m\u001b[38;5;241m.\u001b[39m_forward_pre_hooks\n\u001b[1;32m   1539\u001b[0m         \u001b[38;5;129;01mor\u001b[39;00m _global_backward_pre_hooks \u001b[38;5;129;01mor\u001b[39;00m _global_backward_hooks\n\u001b[1;32m   1540\u001b[0m         \u001b[38;5;129;01mor\u001b[39;00m _global_forward_hooks \u001b[38;5;129;01mor\u001b[39;00m _global_forward_pre_hooks):\n\u001b[0;32m-> 1541\u001b[0m     \u001b[38;5;28;01mreturn\u001b[39;00m \u001b[43mforward_call\u001b[49m\u001b[43m(\u001b[49m\u001b[38;5;241;43m*\u001b[39;49m\u001b[43margs\u001b[49m\u001b[43m,\u001b[49m\u001b[43m \u001b[49m\u001b[38;5;241;43m*\u001b[39;49m\u001b[38;5;241;43m*\u001b[39;49m\u001b[43mkwargs\u001b[49m\u001b[43m)\u001b[49m\n\u001b[1;32m   1543\u001b[0m \u001b[38;5;28;01mtry\u001b[39;00m:\n\u001b[1;32m   1544\u001b[0m     result \u001b[38;5;241m=\u001b[39m \u001b[38;5;28;01mNone\u001b[39;00m\n",
      "File \u001b[0;32m~/workspace/projects/object-detection-impl/src/object_detection_impl/models/blocks/composites.py:166\u001b[0m, in \u001b[0;36mMLPMixerBlock.forward\u001b[0;34m(self, x)\u001b[0m\n\u001b[1;32m    164\u001b[0m _, _, h, w \u001b[38;5;241m=\u001b[39m x\u001b[38;5;241m.\u001b[39mshape\n\u001b[1;32m    165\u001b[0m x \u001b[38;5;241m=\u001b[39m rearrange(x, \u001b[38;5;124m\"\u001b[39m\u001b[38;5;124mn c h w -> n (h w) c\u001b[39m\u001b[38;5;124m\"\u001b[39m)  \u001b[38;5;66;03m# [N, H*W, C]\u001b[39;00m\n\u001b[0;32m--> 166\u001b[0m x \u001b[38;5;241m+\u001b[39m\u001b[38;5;241m=\u001b[39m \u001b[38;5;28;43mself\u001b[39;49m\u001b[38;5;241;43m.\u001b[39;49m\u001b[43mtoken_mixer\u001b[49m\u001b[43m(\u001b[49m\u001b[43mx\u001b[49m\u001b[43m)\u001b[49m\n\u001b[1;32m    167\u001b[0m x \u001b[38;5;241m=\u001b[39m x \u001b[38;5;241m+\u001b[39m \u001b[38;5;28mself\u001b[39m\u001b[38;5;241m.\u001b[39mchannel_mixer(x)\n\u001b[1;32m    168\u001b[0m \u001b[38;5;28;01mreturn\u001b[39;00m rearrange(x, \u001b[38;5;124m\"\u001b[39m\u001b[38;5;124mn (h w) c -> n c h w\u001b[39m\u001b[38;5;124m\"\u001b[39m, h\u001b[38;5;241m=\u001b[39mh, w\u001b[38;5;241m=\u001b[39mw)\n",
      "File \u001b[0;32m~/workspace/projects/object-detection-impl/.venv/lib/python3.9/site-packages/torch/nn/modules/module.py:1532\u001b[0m, in \u001b[0;36mModule._wrapped_call_impl\u001b[0;34m(self, *args, **kwargs)\u001b[0m\n\u001b[1;32m   1530\u001b[0m     \u001b[38;5;28;01mreturn\u001b[39;00m \u001b[38;5;28mself\u001b[39m\u001b[38;5;241m.\u001b[39m_compiled_call_impl(\u001b[38;5;241m*\u001b[39margs, \u001b[38;5;241m*\u001b[39m\u001b[38;5;241m*\u001b[39mkwargs)  \u001b[38;5;66;03m# type: ignore[misc]\u001b[39;00m\n\u001b[1;32m   1531\u001b[0m \u001b[38;5;28;01melse\u001b[39;00m:\n\u001b[0;32m-> 1532\u001b[0m     \u001b[38;5;28;01mreturn\u001b[39;00m \u001b[38;5;28;43mself\u001b[39;49m\u001b[38;5;241;43m.\u001b[39;49m\u001b[43m_call_impl\u001b[49m\u001b[43m(\u001b[49m\u001b[38;5;241;43m*\u001b[39;49m\u001b[43margs\u001b[49m\u001b[43m,\u001b[49m\u001b[43m \u001b[49m\u001b[38;5;241;43m*\u001b[39;49m\u001b[38;5;241;43m*\u001b[39;49m\u001b[43mkwargs\u001b[49m\u001b[43m)\u001b[49m\n",
      "File \u001b[0;32m~/workspace/projects/object-detection-impl/.venv/lib/python3.9/site-packages/torch/nn/modules/module.py:1541\u001b[0m, in \u001b[0;36mModule._call_impl\u001b[0;34m(self, *args, **kwargs)\u001b[0m\n\u001b[1;32m   1536\u001b[0m \u001b[38;5;66;03m# If we don't have any hooks, we want to skip the rest of the logic in\u001b[39;00m\n\u001b[1;32m   1537\u001b[0m \u001b[38;5;66;03m# this function, and just call forward.\u001b[39;00m\n\u001b[1;32m   1538\u001b[0m \u001b[38;5;28;01mif\u001b[39;00m \u001b[38;5;129;01mnot\u001b[39;00m (\u001b[38;5;28mself\u001b[39m\u001b[38;5;241m.\u001b[39m_backward_hooks \u001b[38;5;129;01mor\u001b[39;00m \u001b[38;5;28mself\u001b[39m\u001b[38;5;241m.\u001b[39m_backward_pre_hooks \u001b[38;5;129;01mor\u001b[39;00m \u001b[38;5;28mself\u001b[39m\u001b[38;5;241m.\u001b[39m_forward_hooks \u001b[38;5;129;01mor\u001b[39;00m \u001b[38;5;28mself\u001b[39m\u001b[38;5;241m.\u001b[39m_forward_pre_hooks\n\u001b[1;32m   1539\u001b[0m         \u001b[38;5;129;01mor\u001b[39;00m _global_backward_pre_hooks \u001b[38;5;129;01mor\u001b[39;00m _global_backward_hooks\n\u001b[1;32m   1540\u001b[0m         \u001b[38;5;129;01mor\u001b[39;00m _global_forward_hooks \u001b[38;5;129;01mor\u001b[39;00m _global_forward_pre_hooks):\n\u001b[0;32m-> 1541\u001b[0m     \u001b[38;5;28;01mreturn\u001b[39;00m \u001b[43mforward_call\u001b[49m\u001b[43m(\u001b[49m\u001b[38;5;241;43m*\u001b[39;49m\u001b[43margs\u001b[49m\u001b[43m,\u001b[49m\u001b[43m \u001b[49m\u001b[38;5;241;43m*\u001b[39;49m\u001b[38;5;241;43m*\u001b[39;49m\u001b[43mkwargs\u001b[49m\u001b[43m)\u001b[49m\n\u001b[1;32m   1543\u001b[0m \u001b[38;5;28;01mtry\u001b[39;00m:\n\u001b[1;32m   1544\u001b[0m     result \u001b[38;5;241m=\u001b[39m \u001b[38;5;28;01mNone\u001b[39;00m\n",
      "File \u001b[0;32m~/workspace/projects/object-detection-impl/.venv/lib/python3.9/site-packages/torch/nn/modules/container.py:217\u001b[0m, in \u001b[0;36mSequential.forward\u001b[0;34m(self, input)\u001b[0m\n\u001b[1;32m    215\u001b[0m \u001b[38;5;28;01mdef\u001b[39;00m \u001b[38;5;21mforward\u001b[39m(\u001b[38;5;28mself\u001b[39m, \u001b[38;5;28minput\u001b[39m):\n\u001b[1;32m    216\u001b[0m     \u001b[38;5;28;01mfor\u001b[39;00m module \u001b[38;5;129;01min\u001b[39;00m \u001b[38;5;28mself\u001b[39m:\n\u001b[0;32m--> 217\u001b[0m         \u001b[38;5;28minput\u001b[39m \u001b[38;5;241m=\u001b[39m \u001b[43mmodule\u001b[49m\u001b[43m(\u001b[49m\u001b[38;5;28;43minput\u001b[39;49m\u001b[43m)\u001b[49m\n\u001b[1;32m    218\u001b[0m     \u001b[38;5;28;01mreturn\u001b[39;00m \u001b[38;5;28minput\u001b[39m\n",
      "File \u001b[0;32m~/workspace/projects/object-detection-impl/.venv/lib/python3.9/site-packages/torch/nn/modules/module.py:1532\u001b[0m, in \u001b[0;36mModule._wrapped_call_impl\u001b[0;34m(self, *args, **kwargs)\u001b[0m\n\u001b[1;32m   1530\u001b[0m     \u001b[38;5;28;01mreturn\u001b[39;00m \u001b[38;5;28mself\u001b[39m\u001b[38;5;241m.\u001b[39m_compiled_call_impl(\u001b[38;5;241m*\u001b[39margs, \u001b[38;5;241m*\u001b[39m\u001b[38;5;241m*\u001b[39mkwargs)  \u001b[38;5;66;03m# type: ignore[misc]\u001b[39;00m\n\u001b[1;32m   1531\u001b[0m \u001b[38;5;28;01melse\u001b[39;00m:\n\u001b[0;32m-> 1532\u001b[0m     \u001b[38;5;28;01mreturn\u001b[39;00m \u001b[38;5;28;43mself\u001b[39;49m\u001b[38;5;241;43m.\u001b[39;49m\u001b[43m_call_impl\u001b[49m\u001b[43m(\u001b[49m\u001b[38;5;241;43m*\u001b[39;49m\u001b[43margs\u001b[49m\u001b[43m,\u001b[49m\u001b[43m \u001b[49m\u001b[38;5;241;43m*\u001b[39;49m\u001b[38;5;241;43m*\u001b[39;49m\u001b[43mkwargs\u001b[49m\u001b[43m)\u001b[49m\n",
      "File \u001b[0;32m~/workspace/projects/object-detection-impl/.venv/lib/python3.9/site-packages/torch/nn/modules/module.py:1541\u001b[0m, in \u001b[0;36mModule._call_impl\u001b[0;34m(self, *args, **kwargs)\u001b[0m\n\u001b[1;32m   1536\u001b[0m \u001b[38;5;66;03m# If we don't have any hooks, we want to skip the rest of the logic in\u001b[39;00m\n\u001b[1;32m   1537\u001b[0m \u001b[38;5;66;03m# this function, and just call forward.\u001b[39;00m\n\u001b[1;32m   1538\u001b[0m \u001b[38;5;28;01mif\u001b[39;00m \u001b[38;5;129;01mnot\u001b[39;00m (\u001b[38;5;28mself\u001b[39m\u001b[38;5;241m.\u001b[39m_backward_hooks \u001b[38;5;129;01mor\u001b[39;00m \u001b[38;5;28mself\u001b[39m\u001b[38;5;241m.\u001b[39m_backward_pre_hooks \u001b[38;5;129;01mor\u001b[39;00m \u001b[38;5;28mself\u001b[39m\u001b[38;5;241m.\u001b[39m_forward_hooks \u001b[38;5;129;01mor\u001b[39;00m \u001b[38;5;28mself\u001b[39m\u001b[38;5;241m.\u001b[39m_forward_pre_hooks\n\u001b[1;32m   1539\u001b[0m         \u001b[38;5;129;01mor\u001b[39;00m _global_backward_pre_hooks \u001b[38;5;129;01mor\u001b[39;00m _global_backward_hooks\n\u001b[1;32m   1540\u001b[0m         \u001b[38;5;129;01mor\u001b[39;00m _global_forward_hooks \u001b[38;5;129;01mor\u001b[39;00m _global_forward_pre_hooks):\n\u001b[0;32m-> 1541\u001b[0m     \u001b[38;5;28;01mreturn\u001b[39;00m \u001b[43mforward_call\u001b[49m\u001b[43m(\u001b[49m\u001b[38;5;241;43m*\u001b[39;49m\u001b[43margs\u001b[49m\u001b[43m,\u001b[49m\u001b[43m \u001b[49m\u001b[38;5;241;43m*\u001b[39;49m\u001b[38;5;241;43m*\u001b[39;49m\u001b[43mkwargs\u001b[49m\u001b[43m)\u001b[49m\n\u001b[1;32m   1543\u001b[0m \u001b[38;5;28;01mtry\u001b[39;00m:\n\u001b[1;32m   1544\u001b[0m     result \u001b[38;5;241m=\u001b[39m \u001b[38;5;28;01mNone\u001b[39;00m\n",
      "File \u001b[0;32m~/workspace/projects/object-detection-impl/.venv/lib/python3.9/site-packages/torch/nn/modules/normalization.py:201\u001b[0m, in \u001b[0;36mLayerNorm.forward\u001b[0;34m(self, input)\u001b[0m\n\u001b[1;32m    200\u001b[0m \u001b[38;5;28;01mdef\u001b[39;00m \u001b[38;5;21mforward\u001b[39m(\u001b[38;5;28mself\u001b[39m, \u001b[38;5;28minput\u001b[39m: Tensor) \u001b[38;5;241m-\u001b[39m\u001b[38;5;241m>\u001b[39m Tensor:\n\u001b[0;32m--> 201\u001b[0m     \u001b[38;5;28;01mreturn\u001b[39;00m \u001b[43mF\u001b[49m\u001b[38;5;241;43m.\u001b[39;49m\u001b[43mlayer_norm\u001b[49m\u001b[43m(\u001b[49m\n\u001b[1;32m    202\u001b[0m \u001b[43m        \u001b[49m\u001b[38;5;28;43minput\u001b[39;49m\u001b[43m,\u001b[49m\u001b[43m \u001b[49m\u001b[38;5;28;43mself\u001b[39;49m\u001b[38;5;241;43m.\u001b[39;49m\u001b[43mnormalized_shape\u001b[49m\u001b[43m,\u001b[49m\u001b[43m \u001b[49m\u001b[38;5;28;43mself\u001b[39;49m\u001b[38;5;241;43m.\u001b[39;49m\u001b[43mweight\u001b[49m\u001b[43m,\u001b[49m\u001b[43m \u001b[49m\u001b[38;5;28;43mself\u001b[39;49m\u001b[38;5;241;43m.\u001b[39;49m\u001b[43mbias\u001b[49m\u001b[43m,\u001b[49m\u001b[43m \u001b[49m\u001b[38;5;28;43mself\u001b[39;49m\u001b[38;5;241;43m.\u001b[39;49m\u001b[43meps\u001b[49m\u001b[43m)\u001b[49m\n",
      "File \u001b[0;32m~/workspace/projects/object-detection-impl/.venv/lib/python3.9/site-packages/torch/nn/functional.py:2573\u001b[0m, in \u001b[0;36mlayer_norm\u001b[0;34m(input, normalized_shape, weight, bias, eps)\u001b[0m\n\u001b[1;32m   2569\u001b[0m \u001b[38;5;28;01mif\u001b[39;00m has_torch_function_variadic(\u001b[38;5;28minput\u001b[39m, weight, bias):\n\u001b[1;32m   2570\u001b[0m     \u001b[38;5;28;01mreturn\u001b[39;00m handle_torch_function(\n\u001b[1;32m   2571\u001b[0m         layer_norm, (\u001b[38;5;28minput\u001b[39m, weight, bias), \u001b[38;5;28minput\u001b[39m, normalized_shape, weight\u001b[38;5;241m=\u001b[39mweight, bias\u001b[38;5;241m=\u001b[39mbias, eps\u001b[38;5;241m=\u001b[39meps\n\u001b[1;32m   2572\u001b[0m     )\n\u001b[0;32m-> 2573\u001b[0m \u001b[38;5;28;01mreturn\u001b[39;00m \u001b[43mtorch\u001b[49m\u001b[38;5;241;43m.\u001b[39;49m\u001b[43mlayer_norm\u001b[49m\u001b[43m(\u001b[49m\u001b[38;5;28;43minput\u001b[39;49m\u001b[43m,\u001b[49m\u001b[43m \u001b[49m\u001b[43mnormalized_shape\u001b[49m\u001b[43m,\u001b[49m\u001b[43m \u001b[49m\u001b[43mweight\u001b[49m\u001b[43m,\u001b[49m\u001b[43m \u001b[49m\u001b[43mbias\u001b[49m\u001b[43m,\u001b[49m\u001b[43m \u001b[49m\u001b[43meps\u001b[49m\u001b[43m,\u001b[49m\u001b[43m \u001b[49m\u001b[43mtorch\u001b[49m\u001b[38;5;241;43m.\u001b[39;49m\u001b[43mbackends\u001b[49m\u001b[38;5;241;43m.\u001b[39;49m\u001b[43mcudnn\u001b[49m\u001b[38;5;241;43m.\u001b[39;49m\u001b[43menabled\u001b[49m\u001b[43m)\u001b[49m\n",
      "\u001b[0;31mRuntimeError\u001b[0m: Given normalized_shape=[16], expected input with shape [*, 16], but got input of size[2, 256, 128]"
     ]
    }
   ],
   "source": [
    "mout = mixer(torch.randn([2, 128, 16, 16]))"
   ]
  },
  {
   "cell_type": "code",
   "execution_count": 147,
   "id": "eda4b924-238a-41ed-b42a-d5f28eecfc69",
   "metadata": {},
   "outputs": [
    {
     "data": {
      "text/plain": [
       "torch.Size([2, 16, 8, 8])"
      ]
     },
     "execution_count": 147,
     "metadata": {},
     "output_type": "execute_result"
    }
   ],
   "source": [
    "mout.shape"
   ]
  },
  {
   "cell_type": "code",
   "execution_count": 129,
   "id": "06a448c4-b7fe-4a0e-9b65-8d4b2b223004",
   "metadata": {},
   "outputs": [
    {
     "data": {
      "text/plain": [
       "3"
      ]
     },
     "execution_count": 129,
     "metadata": {},
     "output_type": "execute_result"
    }
   ],
   "source": [
    "cfg.model.stem.params.get(\"patch_siz\", 3)"
   ]
  }
 ],
 "metadata": {
  "kernelspec": {
   "display_name": "Python 3 (ipykernel)",
   "language": "python",
   "name": "python3"
  },
  "language_info": {
   "codemirror_mode": {
    "name": "ipython",
    "version": 3
   },
   "file_extension": ".py",
   "mimetype": "text/x-python",
   "name": "python",
   "nbconvert_exporter": "python",
   "pygments_lexer": "ipython3",
   "version": "3.9.2"
  }
 },
 "nbformat": 4,
 "nbformat_minor": 5
}
