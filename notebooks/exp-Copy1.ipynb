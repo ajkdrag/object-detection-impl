{
 "cells": [
  {
   "cell_type": "code",
   "execution_count": 3,
   "id": "6f4feb14-53c2-4dd8-812f-96bce3e44417",
   "metadata": {},
   "outputs": [],
   "source": [
    "x = True"
   ]
  },
  {
   "cell_type": "code",
   "execution_count": 4,
   "id": "ab75ee06-2575-4736-bba0-5be3818ddd64",
   "metadata": {},
   "outputs": [
    {
     "data": {
      "text/plain": [
       "1"
      ]
     },
     "execution_count": 4,
     "metadata": {},
     "output_type": "execute_result"
    }
   ],
   "source": [
    "int(x)"
   ]
  },
  {
   "cell_type": "code",
   "execution_count": 1,
   "id": "9bae5c43-a36e-4768-897f-7d9bedcffbef",
   "metadata": {},
   "outputs": [],
   "source": [
    "import sys\n",
    "from pathlib import Path"
   ]
  },
  {
   "cell_type": "code",
   "execution_count": 2,
   "id": "9c762041-6063-4e9a-8b91-97ddd4134eee",
   "metadata": {},
   "outputs": [],
   "source": [
    "%load_ext autoreload\n",
    "%autoreload 3 -p\n",
    "%matplotlib inline"
   ]
  },
  {
   "cell_type": "markdown",
   "id": "49889896-8cf7-478d-8f35-293edd6f7fb3",
   "metadata": {},
   "source": [
    "## imports"
   ]
  },
  {
   "cell_type": "code",
   "execution_count": 3,
   "id": "cab176f7-2761-4029-a227-a1ac13d759de",
   "metadata": {},
   "outputs": [],
   "source": [
    "import pprint\n",
    "import matplotlib.pyplot as plt"
   ]
  },
  {
   "cell_type": "code",
   "execution_count": 4,
   "id": "fe72054a-b5fd-4795-8fd1-9b6ba176f31f",
   "metadata": {},
   "outputs": [],
   "source": [
    "from hydra import initialize, compose"
   ]
  },
  {
   "cell_type": "code",
   "execution_count": 5,
   "id": "667fcc43-1500-4bcd-a2c1-16a34e84f1b7",
   "metadata": {},
   "outputs": [],
   "source": [
    "from object_detection_impl.train import _run"
   ]
  },
  {
   "cell_type": "markdown",
   "id": "355f53a2-1171-4653-b37c-222584e42b28",
   "metadata": {},
   "source": [
    "## config"
   ]
  },
  {
   "cell_type": "code",
   "execution_count": 6,
   "id": "4ce6fd6e-6418-4c75-9af5-dc36d15d54da",
   "metadata": {},
   "outputs": [],
   "source": [
    "def load_config():\n",
    "    with initialize(version_base=None, config_path=\"../configs\"):\n",
    "        cfg = compose(config_name=\"config_tv_clf\")\n",
    "        print(cfg)\n",
    "        return cfg"
   ]
  },
  {
   "cell_type": "code",
   "execution_count": 7,
   "id": "5cb2d02d-4c08-4598-8052-f67fc4b0c661",
   "metadata": {},
   "outputs": [
    {
     "name": "stdout",
     "output_type": "stream",
     "text": [
      "{'general': {'logs_folder_name': 'logs', 'root_dir': '/home/ajkdrag/workspace/projects/object-detection-impl/experiments', 'workspace': 'ajkdrag', 'project_name': 'od-impl', 'device': 'cuda', 'exp_name': '${datamodule.dataset.name}'}, 'datamodule': {'path': '/home/ajkdrag/workspace/projects/object-detection-impl/data/cifar10', 'class_name': 'datamodules.tv_clf_dm.TorchvisionClfDatamodule', 'dataset': {'class_name': 'datasets.tv_clf_ds.TorchvisionClfDataset', 'name': 'CIFAR10', 'mean': [0.4914, 0.4822, 0.4465], 'std': [0.2471, 0.2435, 0.2616], 'n_classes': 10}, 'num_workers': 8, 'batch_size': '${training.bs}', 'test_batch_size': 32, 'pin_memory': True, 'splits': [0.7, 0.3]}, 'augmentation': {'train': [{'class_name': 'albumentations.RandomResizedCrop', 'params': {'height': '${model.input_size}', 'width': '${model.input_size}', 'scale': [0.75, 1], 'p': 0.5}}, {'class_name': 'albumentations.HorizontalFlip', 'params': {'p': 0.5}}, {'class_name': 'albumentations.ShiftScaleRotate', 'params': {'shift_limit': 0.1, 'scale_limit': 0.1, 'rotate_limit': 10, 'p': 0.5}}, {'class_name': 'albumentations.ColorJitter', 'params': {'brightness': 0.2, 'contrast': 0.2, 'saturation': 0.2, 'hue': 0.01, 'p': 1.0}}, {'class_name': 'albumentations.CoarseDropout', 'params': {'num_holes_range': [1, 1], 'hole_height_range': [8, 8], 'hole_width_range': [8, 8], 'fill_value': 120, 'p': 0.1}}, {'class_name': 'albumentations.Normalize', 'params': {'mean': '${datamodule.dataset.mean}', 'std': '${datamodule.dataset.std}', 'p': 1.0}}, {'class_name': 'albumentations.pytorch.transforms.ToTensorV2', 'params': {'p': 1.0}}], 'val': [{'class_name': 'albumentations.Normalize', 'params': {'mean': '${datamodule.dataset.mean}', 'std': '${datamodule.dataset.std}', 'p': 1.0}}, {'class_name': 'albumentations.pytorch.transforms.ToTensorV2', 'params': {'p': 1.0}}]}, 'training': {'lr': 0.001, 'wd': 0.01, 'bs': 32, 'epochs': 100, 'seed': 666, 'debug': False, 'mode': 'max', 'monitor': '${metric._primary}', 'lit_model': {'class_name': 'lit_models.image_clf.LitImageClassifier'}, 'trainer_params': {'devices': 1, 'accelerator': 'gpu', 'precision': 16, 'profiler': False, 'max_epochs': '${training.epochs}', 'log_every_n_steps': 50, 'num_sanity_val_steps': 0, 'check_val_every_n_epoch': 1, 'default_root_dir': '${general.root_dir}'}}, 'predict': {'checkpoint': 'model_checkpoints/epoch=28-valid_accuracy=0.906733.ckpt', 'postprocessor': {'func_name': 'postprocessor.tv_clf_pp.postprocess', 'params': {'label_h': 20, 'size': 120}}}, 'model': {'class_name': 'models.nets.convtiny.ConvTiny', 'input_size': 32, 'neck': {'class_name': 'models.necks.conv.AvgPool'}, 'head': {'class_name': 'models.heads.fc.FullyConnectedHead', 'params': {'layer_units': ['${datamodule.dataset.n_classes}']}}}, 'optimizer': {'class_name': 'torch.optim.AdamW', 'params': {'lr': '${training.lr}', 'weight_decay': '${training.wd}'}}, 'scheduler': {'class_name': 'torch.optim.lr_scheduler.OneCycleLR', 'step': 'step', 'monitor': 'train_${training.monitor}', 'params': {'max_lr': '${training.lr}', 'total_steps': None}}, 'loss': {'class_name': 'torch.nn.CrossEntropyLoss', 'params': {'label_smoothing': 0.1}}, 'metric': {'accuracy': {'class_name': 'torchmetrics.Accuracy', 'params': {'task': 'multiclass', 'threshold': 0.5, 'num_classes': '${datamodule.dataset.n_classes}', 'top_k': 1}}, 'f1_score': {'class_name': 'torchmetrics.F1Score', 'params': {'task': 'multiclass', 'average': 'weighted', 'num_classes': '${datamodule.dataset.n_classes}'}}, '_primary': 'accuracy'}, 'callback': {'model_checkpoint': {'class_name': 'lightning.pytorch.callbacks.ModelCheckpoint', 'params': {'monitor': 'valid_${training.monitor}', 'save_top_k': 1, 'dirpath': 'model_checkpoints', 'filename': '{epoch}-{valid_${training.monitor}:.6f}', 'mode': '${training.mode}'}}, 'vis_dls': {'class_name': 'callbacks.vis_dls.VisualizeDlsCallback', 'params': {'num_samples': 8, 'dirpath': 'dls', 'scale': 4}}}, 'logging': {'log': True, 'loggers': [{'class_name': 'pytorch_lightning.loggers.CSVLogger', 'params': {'save_dir': '${general.root_dir}', 'name': '${general.exp_name}/logs'}}]}}\n"
     ]
    }
   ],
   "source": [
    "cfg = load_config()"
   ]
  },
  {
   "cell_type": "code",
   "execution_count": 8,
   "id": "fea7b244-68fb-49d9-b792-bd92d335aeea",
   "metadata": {},
   "outputs": [
    {
     "data": {
      "text/plain": [
       "{'train': [{'class_name': 'albumentations.RandomResizedCrop', 'params': {'height': '${model.input_size}', 'width': '${model.input_size}', 'scale': [0.75, 1], 'p': 0.5}}, {'class_name': 'albumentations.HorizontalFlip', 'params': {'p': 0.5}}, {'class_name': 'albumentations.ShiftScaleRotate', 'params': {'shift_limit': 0.1, 'scale_limit': 0.1, 'rotate_limit': 10, 'p': 0.5}}, {'class_name': 'albumentations.ColorJitter', 'params': {'brightness': 0.2, 'contrast': 0.2, 'saturation': 0.2, 'hue': 0.01, 'p': 1.0}}, {'class_name': 'albumentations.CoarseDropout', 'params': {'num_holes_range': [1, 1], 'hole_height_range': [8, 8], 'hole_width_range': [8, 8], 'fill_value': 120, 'p': 0.1}}, {'class_name': 'albumentations.Normalize', 'params': {'mean': '${datamodule.dataset.mean}', 'std': '${datamodule.dataset.std}', 'p': 1.0}}, {'class_name': 'albumentations.pytorch.transforms.ToTensorV2', 'params': {'p': 1.0}}], 'val': [{'class_name': 'albumentations.Normalize', 'params': {'mean': '${datamodule.dataset.mean}', 'std': '${datamodule.dataset.std}', 'p': 1.0}}, {'class_name': 'albumentations.pytorch.transforms.ToTensorV2', 'params': {'p': 1.0}}]}"
      ]
     },
     "execution_count": 8,
     "metadata": {},
     "output_type": "execute_result"
    }
   ],
   "source": [
    "cfg.augmentation"
   ]
  },
  {
   "cell_type": "markdown",
   "id": "5b7bba42-fa9a-4d4f-94e1-dc6c5006d103",
   "metadata": {
    "jp-MarkdownHeadingCollapsed": true
   },
   "source": [
    "## train"
   ]
  },
  {
   "cell_type": "code",
   "execution_count": null,
   "id": "e5633e5c-0a3e-46d2-a70f-08dfb9bdd4f5",
   "metadata": {},
   "outputs": [
    {
     "name": "stdout",
     "output_type": "stream",
     "text": [
      "2024-06-18T07:08:53.858095Z [info     ] **** Running train func ****   func_name=_run lineno=18\n"
     ]
    },
    {
     "name": "stderr",
     "output_type": "stream",
     "text": [
      "/home/ajkdrag/workspace/projects/object-detection-impl/.venv/lib/python3.9/site-packages/lightning/fabric/connector.py:563: `precision=16` is supported for historical reasons but its usage is discouraged. Please set your precision to 16-mixed instead!\n"
     ]
    },
    {
     "name": "stdout",
     "output_type": "stream",
     "text": [
      "Using 16bit Automatic Mixed Precision (AMP)\n",
      "GPU available: True (cuda), used: True\n",
      "TPU available: False, using: 0 TPU cores\n",
      "IPU available: False, using: 0 IPUs\n",
      "HPU available: False, using: 0 HPUs\n"
     ]
    },
    {
     "name": "stderr",
     "output_type": "stream",
     "text": [
      "/home/ajkdrag/workspace/projects/object-detection-impl/.venv/lib/python3.9/site-packages/pydantic/main.py:347: UserWarning: Pydantic serializer warnings:\n",
      "  Expected `Union[float, tuple[float, float]]` but got `list` - serialized value may not be as expected\n",
      "  Expected `Union[float, tuple[float, float]]` but got `list` - serialized value may not be as expected\n",
      "  Expected `Union[float, tuple[float, float]]` but got `list` - serialized value may not be as expected\n",
      "  Expected `Union[float, tuple[float, float]]` but got `list` - serialized value may not be as expected\n",
      "  return self.__pydantic_serializer__.to_python(\n"
     ]
    },
    {
     "name": "stdout",
     "output_type": "stream",
     "text": [
      "Files already downloaded and verified\n",
      "Files already downloaded and verified\n",
      "2024-06-18T07:08:56.033632Z [info     ] train_dataset size: 35000      func_name=setup lineno=77\n",
      "2024-06-18T07:08:56.040437Z [info     ] val_dataset size: 15000        func_name=setup lineno=78\n"
     ]
    },
    {
     "name": "stderr",
     "output_type": "stream",
     "text": [
      "/home/ajkdrag/workspace/projects/object-detection-impl/.venv/lib/python3.9/site-packages/lightning/pytorch/callbacks/model_checkpoint.py:653: Checkpoint directory /home/ajkdrag/workspace/projects/object-detection-impl/experiments/CIFAR10/model_checkpoints exists and is not empty.\n",
      "INFO: LOCAL_RANK: 0 - CUDA_VISIBLE_DEVICES: [0]\n"
     ]
    },
    {
     "name": "stdout",
     "output_type": "stream",
     "text": [
      "Loading `train_dataloader` to estimate number of stepping batches.\n"
     ]
    },
    {
     "name": "stderr",
     "output_type": "stream",
     "text": [
      "INFO: \n",
      "  | Name    | Type             | Params\n",
      "---------------------------------------------\n",
      "0 | model   | ConvTiny         | 80.2 K\n",
      "1 | loss    | CrossEntropyLoss | 0     \n",
      "2 | metrics | ModuleDict       | 0     \n",
      "---------------------------------------------\n",
      "80.2 K    Trainable params\n",
      "0         Non-trainable params\n",
      "80.2 K    Total params\n",
      "0.321     Total estimated model params size (MB)\n"
     ]
    },
    {
     "data": {
      "application/vnd.jupyter.widget-view+json": {
       "model_id": "ac86f7f9f0d64a5c9f4a7cf65a3c27c0",
       "version_major": 2,
       "version_minor": 0
      },
      "text/plain": [
       "Training: |                                                                                                   …"
      ]
     },
     "metadata": {},
     "output_type": "display_data"
    },
    {
     "name": "stderr",
     "output_type": "stream",
     "text": [
      "/home/ajkdrag/workspace/projects/object-detection-impl/.venv/lib/python3.9/site-packages/torch/optim/lr_scheduler.py:143: UserWarning: Detected call of `lr_scheduler.step()` before `optimizer.step()`. In PyTorch 1.1.0 and later, you should call them in the opposite order: `optimizer.step()` before `lr_scheduler.step()`.  Failure to do this will result in PyTorch skipping the first value of the learning rate schedule. See more details at https://pytorch.org/docs/stable/optim.html#how-to-adjust-learning-rate\n",
      "  warnings.warn(\"Detected call of `lr_scheduler.step()` before `optimizer.step()`. \"\n"
     ]
    },
    {
     "data": {
      "application/vnd.jupyter.widget-view+json": {
       "model_id": "",
       "version_major": 2,
       "version_minor": 0
      },
      "text/plain": [
       "Validation: |                                                                                                 …"
      ]
     },
     "metadata": {},
     "output_type": "display_data"
    },
    {
     "data": {
      "application/vnd.jupyter.widget-view+json": {
       "model_id": "",
       "version_major": 2,
       "version_minor": 0
      },
      "text/plain": [
       "Validation: |                                                                                                 …"
      ]
     },
     "metadata": {},
     "output_type": "display_data"
    },
    {
     "data": {
      "application/vnd.jupyter.widget-view+json": {
       "model_id": "",
       "version_major": 2,
       "version_minor": 0
      },
      "text/plain": [
       "Validation: |                                                                                                 …"
      ]
     },
     "metadata": {},
     "output_type": "display_data"
    },
    {
     "data": {
      "application/vnd.jupyter.widget-view+json": {
       "model_id": "",
       "version_major": 2,
       "version_minor": 0
      },
      "text/plain": [
       "Validation: |                                                                                                 …"
      ]
     },
     "metadata": {},
     "output_type": "display_data"
    },
    {
     "data": {
      "application/vnd.jupyter.widget-view+json": {
       "model_id": "",
       "version_major": 2,
       "version_minor": 0
      },
      "text/plain": [
       "Validation: |                                                                                                 …"
      ]
     },
     "metadata": {},
     "output_type": "display_data"
    },
    {
     "data": {
      "application/vnd.jupyter.widget-view+json": {
       "model_id": "",
       "version_major": 2,
       "version_minor": 0
      },
      "text/plain": [
       "Validation: |                                                                                                 …"
      ]
     },
     "metadata": {},
     "output_type": "display_data"
    },
    {
     "data": {
      "application/vnd.jupyter.widget-view+json": {
       "model_id": "",
       "version_major": 2,
       "version_minor": 0
      },
      "text/plain": [
       "Validation: |                                                                                                 …"
      ]
     },
     "metadata": {},
     "output_type": "display_data"
    },
    {
     "data": {
      "application/vnd.jupyter.widget-view+json": {
       "model_id": "",
       "version_major": 2,
       "version_minor": 0
      },
      "text/plain": [
       "Validation: |                                                                                                 …"
      ]
     },
     "metadata": {},
     "output_type": "display_data"
    },
    {
     "data": {
      "application/vnd.jupyter.widget-view+json": {
       "model_id": "",
       "version_major": 2,
       "version_minor": 0
      },
      "text/plain": [
       "Validation: |                                                                                                 …"
      ]
     },
     "metadata": {},
     "output_type": "display_data"
    },
    {
     "data": {
      "application/vnd.jupyter.widget-view+json": {
       "model_id": "",
       "version_major": 2,
       "version_minor": 0
      },
      "text/plain": [
       "Validation: |                                                                                                 …"
      ]
     },
     "metadata": {},
     "output_type": "display_data"
    },
    {
     "data": {
      "application/vnd.jupyter.widget-view+json": {
       "model_id": "",
       "version_major": 2,
       "version_minor": 0
      },
      "text/plain": [
       "Validation: |                                                                                                 …"
      ]
     },
     "metadata": {},
     "output_type": "display_data"
    },
    {
     "data": {
      "application/vnd.jupyter.widget-view+json": {
       "model_id": "",
       "version_major": 2,
       "version_minor": 0
      },
      "text/plain": [
       "Validation: |                                                                                                 …"
      ]
     },
     "metadata": {},
     "output_type": "display_data"
    },
    {
     "data": {
      "application/vnd.jupyter.widget-view+json": {
       "model_id": "",
       "version_major": 2,
       "version_minor": 0
      },
      "text/plain": [
       "Validation: |                                                                                                 …"
      ]
     },
     "metadata": {},
     "output_type": "display_data"
    },
    {
     "data": {
      "application/vnd.jupyter.widget-view+json": {
       "model_id": "",
       "version_major": 2,
       "version_minor": 0
      },
      "text/plain": [
       "Validation: |                                                                                                 …"
      ]
     },
     "metadata": {},
     "output_type": "display_data"
    },
    {
     "data": {
      "application/vnd.jupyter.widget-view+json": {
       "model_id": "",
       "version_major": 2,
       "version_minor": 0
      },
      "text/plain": [
       "Validation: |                                                                                                 …"
      ]
     },
     "metadata": {},
     "output_type": "display_data"
    },
    {
     "data": {
      "application/vnd.jupyter.widget-view+json": {
       "model_id": "",
       "version_major": 2,
       "version_minor": 0
      },
      "text/plain": [
       "Validation: |                                                                                                 …"
      ]
     },
     "metadata": {},
     "output_type": "display_data"
    },
    {
     "data": {
      "application/vnd.jupyter.widget-view+json": {
       "model_id": "",
       "version_major": 2,
       "version_minor": 0
      },
      "text/plain": [
       "Validation: |                                                                                                 …"
      ]
     },
     "metadata": {},
     "output_type": "display_data"
    },
    {
     "data": {
      "application/vnd.jupyter.widget-view+json": {
       "model_id": "",
       "version_major": 2,
       "version_minor": 0
      },
      "text/plain": [
       "Validation: |                                                                                                 …"
      ]
     },
     "metadata": {},
     "output_type": "display_data"
    },
    {
     "data": {
      "application/vnd.jupyter.widget-view+json": {
       "model_id": "",
       "version_major": 2,
       "version_minor": 0
      },
      "text/plain": [
       "Validation: |                                                                                                 …"
      ]
     },
     "metadata": {},
     "output_type": "display_data"
    },
    {
     "data": {
      "application/vnd.jupyter.widget-view+json": {
       "model_id": "",
       "version_major": 2,
       "version_minor": 0
      },
      "text/plain": [
       "Validation: |                                                                                                 …"
      ]
     },
     "metadata": {},
     "output_type": "display_data"
    },
    {
     "data": {
      "application/vnd.jupyter.widget-view+json": {
       "model_id": "",
       "version_major": 2,
       "version_minor": 0
      },
      "text/plain": [
       "Validation: |                                                                                                 …"
      ]
     },
     "metadata": {},
     "output_type": "display_data"
    },
    {
     "data": {
      "application/vnd.jupyter.widget-view+json": {
       "model_id": "",
       "version_major": 2,
       "version_minor": 0
      },
      "text/plain": [
       "Validation: |                                                                                                 …"
      ]
     },
     "metadata": {},
     "output_type": "display_data"
    },
    {
     "data": {
      "application/vnd.jupyter.widget-view+json": {
       "model_id": "",
       "version_major": 2,
       "version_minor": 0
      },
      "text/plain": [
       "Validation: |                                                                                                 …"
      ]
     },
     "metadata": {},
     "output_type": "display_data"
    },
    {
     "data": {
      "application/vnd.jupyter.widget-view+json": {
       "model_id": "",
       "version_major": 2,
       "version_minor": 0
      },
      "text/plain": [
       "Validation: |                                                                                                 …"
      ]
     },
     "metadata": {},
     "output_type": "display_data"
    },
    {
     "data": {
      "application/vnd.jupyter.widget-view+json": {
       "model_id": "",
       "version_major": 2,
       "version_minor": 0
      },
      "text/plain": [
       "Validation: |                                                                                                 …"
      ]
     },
     "metadata": {},
     "output_type": "display_data"
    },
    {
     "data": {
      "application/vnd.jupyter.widget-view+json": {
       "model_id": "",
       "version_major": 2,
       "version_minor": 0
      },
      "text/plain": [
       "Validation: |                                                                                                 …"
      ]
     },
     "metadata": {},
     "output_type": "display_data"
    },
    {
     "data": {
      "application/vnd.jupyter.widget-view+json": {
       "model_id": "",
       "version_major": 2,
       "version_minor": 0
      },
      "text/plain": [
       "Validation: |                                                                                                 …"
      ]
     },
     "metadata": {},
     "output_type": "display_data"
    },
    {
     "data": {
      "application/vnd.jupyter.widget-view+json": {
       "model_id": "",
       "version_major": 2,
       "version_minor": 0
      },
      "text/plain": [
       "Validation: |                                                                                                 …"
      ]
     },
     "metadata": {},
     "output_type": "display_data"
    },
    {
     "data": {
      "application/vnd.jupyter.widget-view+json": {
       "model_id": "",
       "version_major": 2,
       "version_minor": 0
      },
      "text/plain": [
       "Validation: |                                                                                                 …"
      ]
     },
     "metadata": {},
     "output_type": "display_data"
    },
    {
     "data": {
      "application/vnd.jupyter.widget-view+json": {
       "model_id": "",
       "version_major": 2,
       "version_minor": 0
      },
      "text/plain": [
       "Validation: |                                                                                                 …"
      ]
     },
     "metadata": {},
     "output_type": "display_data"
    },
    {
     "data": {
      "application/vnd.jupyter.widget-view+json": {
       "model_id": "",
       "version_major": 2,
       "version_minor": 0
      },
      "text/plain": [
       "Validation: |                                                                                                 …"
      ]
     },
     "metadata": {},
     "output_type": "display_data"
    },
    {
     "data": {
      "application/vnd.jupyter.widget-view+json": {
       "model_id": "",
       "version_major": 2,
       "version_minor": 0
      },
      "text/plain": [
       "Validation: |                                                                                                 …"
      ]
     },
     "metadata": {},
     "output_type": "display_data"
    },
    {
     "data": {
      "application/vnd.jupyter.widget-view+json": {
       "model_id": "",
       "version_major": 2,
       "version_minor": 0
      },
      "text/plain": [
       "Validation: |                                                                                                 …"
      ]
     },
     "metadata": {},
     "output_type": "display_data"
    },
    {
     "data": {
      "application/vnd.jupyter.widget-view+json": {
       "model_id": "",
       "version_major": 2,
       "version_minor": 0
      },
      "text/plain": [
       "Validation: |                                                                                                 …"
      ]
     },
     "metadata": {},
     "output_type": "display_data"
    },
    {
     "data": {
      "application/vnd.jupyter.widget-view+json": {
       "model_id": "",
       "version_major": 2,
       "version_minor": 0
      },
      "text/plain": [
       "Validation: |                                                                                                 …"
      ]
     },
     "metadata": {},
     "output_type": "display_data"
    },
    {
     "data": {
      "application/vnd.jupyter.widget-view+json": {
       "model_id": "",
       "version_major": 2,
       "version_minor": 0
      },
      "text/plain": [
       "Validation: |                                                                                                 …"
      ]
     },
     "metadata": {},
     "output_type": "display_data"
    },
    {
     "data": {
      "application/vnd.jupyter.widget-view+json": {
       "model_id": "",
       "version_major": 2,
       "version_minor": 0
      },
      "text/plain": [
       "Validation: |                                                                                                 …"
      ]
     },
     "metadata": {},
     "output_type": "display_data"
    },
    {
     "data": {
      "application/vnd.jupyter.widget-view+json": {
       "model_id": "",
       "version_major": 2,
       "version_minor": 0
      },
      "text/plain": [
       "Validation: |                                                                                                 …"
      ]
     },
     "metadata": {},
     "output_type": "display_data"
    },
    {
     "data": {
      "application/vnd.jupyter.widget-view+json": {
       "model_id": "",
       "version_major": 2,
       "version_minor": 0
      },
      "text/plain": [
       "Validation: |                                                                                                 …"
      ]
     },
     "metadata": {},
     "output_type": "display_data"
    },
    {
     "data": {
      "application/vnd.jupyter.widget-view+json": {
       "model_id": "",
       "version_major": 2,
       "version_minor": 0
      },
      "text/plain": [
       "Validation: |                                                                                                 …"
      ]
     },
     "metadata": {},
     "output_type": "display_data"
    },
    {
     "data": {
      "application/vnd.jupyter.widget-view+json": {
       "model_id": "",
       "version_major": 2,
       "version_minor": 0
      },
      "text/plain": [
       "Validation: |                                                                                                 …"
      ]
     },
     "metadata": {},
     "output_type": "display_data"
    },
    {
     "data": {
      "application/vnd.jupyter.widget-view+json": {
       "model_id": "",
       "version_major": 2,
       "version_minor": 0
      },
      "text/plain": [
       "Validation: |                                                                                                 …"
      ]
     },
     "metadata": {},
     "output_type": "display_data"
    },
    {
     "data": {
      "application/vnd.jupyter.widget-view+json": {
       "model_id": "",
       "version_major": 2,
       "version_minor": 0
      },
      "text/plain": [
       "Validation: |                                                                                                 …"
      ]
     },
     "metadata": {},
     "output_type": "display_data"
    },
    {
     "data": {
      "application/vnd.jupyter.widget-view+json": {
       "model_id": "",
       "version_major": 2,
       "version_minor": 0
      },
      "text/plain": [
       "Validation: |                                                                                                 …"
      ]
     },
     "metadata": {},
     "output_type": "display_data"
    },
    {
     "data": {
      "application/vnd.jupyter.widget-view+json": {
       "model_id": "",
       "version_major": 2,
       "version_minor": 0
      },
      "text/plain": [
       "Validation: |                                                                                                 …"
      ]
     },
     "metadata": {},
     "output_type": "display_data"
    },
    {
     "data": {
      "application/vnd.jupyter.widget-view+json": {
       "model_id": "",
       "version_major": 2,
       "version_minor": 0
      },
      "text/plain": [
       "Validation: |                                                                                                 …"
      ]
     },
     "metadata": {},
     "output_type": "display_data"
    },
    {
     "data": {
      "application/vnd.jupyter.widget-view+json": {
       "model_id": "",
       "version_major": 2,
       "version_minor": 0
      },
      "text/plain": [
       "Validation: |                                                                                                 …"
      ]
     },
     "metadata": {},
     "output_type": "display_data"
    },
    {
     "data": {
      "application/vnd.jupyter.widget-view+json": {
       "model_id": "",
       "version_major": 2,
       "version_minor": 0
      },
      "text/plain": [
       "Validation: |                                                                                                 …"
      ]
     },
     "metadata": {},
     "output_type": "display_data"
    },
    {
     "data": {
      "application/vnd.jupyter.widget-view+json": {
       "model_id": "",
       "version_major": 2,
       "version_minor": 0
      },
      "text/plain": [
       "Validation: |                                                                                                 …"
      ]
     },
     "metadata": {},
     "output_type": "display_data"
    },
    {
     "data": {
      "application/vnd.jupyter.widget-view+json": {
       "model_id": "",
       "version_major": 2,
       "version_minor": 0
      },
      "text/plain": [
       "Validation: |                                                                                                 …"
      ]
     },
     "metadata": {},
     "output_type": "display_data"
    },
    {
     "data": {
      "application/vnd.jupyter.widget-view+json": {
       "model_id": "",
       "version_major": 2,
       "version_minor": 0
      },
      "text/plain": [
       "Validation: |                                                                                                 …"
      ]
     },
     "metadata": {},
     "output_type": "display_data"
    },
    {
     "data": {
      "application/vnd.jupyter.widget-view+json": {
       "model_id": "",
       "version_major": 2,
       "version_minor": 0
      },
      "text/plain": [
       "Validation: |                                                                                                 …"
      ]
     },
     "metadata": {},
     "output_type": "display_data"
    },
    {
     "data": {
      "application/vnd.jupyter.widget-view+json": {
       "model_id": "",
       "version_major": 2,
       "version_minor": 0
      },
      "text/plain": [
       "Validation: |                                                                                                 …"
      ]
     },
     "metadata": {},
     "output_type": "display_data"
    },
    {
     "data": {
      "application/vnd.jupyter.widget-view+json": {
       "model_id": "",
       "version_major": 2,
       "version_minor": 0
      },
      "text/plain": [
       "Validation: |                                                                                                 …"
      ]
     },
     "metadata": {},
     "output_type": "display_data"
    },
    {
     "data": {
      "application/vnd.jupyter.widget-view+json": {
       "model_id": "",
       "version_major": 2,
       "version_minor": 0
      },
      "text/plain": [
       "Validation: |                                                                                                 …"
      ]
     },
     "metadata": {},
     "output_type": "display_data"
    },
    {
     "data": {
      "application/vnd.jupyter.widget-view+json": {
       "model_id": "",
       "version_major": 2,
       "version_minor": 0
      },
      "text/plain": [
       "Validation: |                                                                                                 …"
      ]
     },
     "metadata": {},
     "output_type": "display_data"
    },
    {
     "data": {
      "application/vnd.jupyter.widget-view+json": {
       "model_id": "590df5ff1bd64cc88ab57170d4fe26c3",
       "version_major": 2,
       "version_minor": 0
      },
      "text/plain": [
       "Validation: |                                                                                                 …"
      ]
     },
     "metadata": {},
     "output_type": "display_data"
    }
   ],
   "source": [
    "_run(cfg)"
   ]
  },
  {
   "cell_type": "code",
   "execution_count": null,
   "id": "c03e41ff-072e-422f-9104-fec49acc68c0",
   "metadata": {},
   "outputs": [],
   "source": []
  },
  {
   "cell_type": "code",
   "execution_count": 27,
   "id": "29677be8-d4d9-44fa-b36b-e088bea7f8b3",
   "metadata": {},
   "outputs": [
    {
     "name": "stdout",
     "output_type": "stream",
     "text": [
      "2024-06-12T05:12:04.705571Z [info     ] **** Running predict func **** func_name=_run lineno=36\n",
      "Files already downloaded and verified\n",
      "Files already downloaded and verified\n",
      "torch.Size([32, 3, 140, 120])\n"
     ]
    }
   ],
   "source": [
    "for idx, out in enumerate(pred_run(cfg)):\n",
    "    if idx == 0:\n",
    "        print(out.shape)\n",
    "        break"
   ]
  },
  {
   "cell_type": "code",
   "execution_count": 33,
   "id": "a2bc8e97-55f4-41b9-8540-67826673c89c",
   "metadata": {},
   "outputs": [
    {
     "data": {
      "image/jpeg": "[encoded data removed]",
      "image/png": "[encoded data removed]",
      "text/plain": [
       "<PIL.Image.Image image mode=RGB size=120x140>"
      ]
     },
     "execution_count": 33,
     "metadata": {},
     "output_type": "execute_result"
    }
   ],
   "source": [
    "to_pil_image(out[9])"
   ]
  },
  {
   "cell_type": "code",
   "execution_count": null,
   "id": "2a3f8962-b21c-44d5-8405-ea69a99a9504",
   "metadata": {},
   "outputs": [],
   "source": []
  },
  {
   "cell_type": "markdown",
   "id": "70014ed6-0db8-4130-ba06-8e0acccc79b2",
   "metadata": {},
   "source": [
    "## exp"
   ]
  },
  {
   "cell_type": "code",
   "execution_count": 310,
   "id": "325cd959-4811-4444-9972-e32a5a1d4161",
   "metadata": {},
   "outputs": [],
   "source": [
    "import torch\n",
    "from torch import nn"
   ]
  },
  {
   "cell_type": "code",
   "execution_count": 335,
   "id": "f5fc0820-34bb-4c84-8f30-de8bedc3f5aa",
   "metadata": {},
   "outputs": [],
   "source": [
    "ip = torch.randn([2, 27, 30, 30])"
   ]
  },
  {
   "cell_type": "code",
   "execution_count": 336,
   "id": "1cc20691-3268-4b36-9082-9d5f3f94f7ab",
   "metadata": {},
   "outputs": [
    {
     "data": {
      "text/plain": [
       "torch.Size([2, 243, 784])"
      ]
     },
     "execution_count": 336,
     "metadata": {},
     "output_type": "execute_result"
    }
   ],
   "source": [
    "nn.Unfold(kernel_size=3, stride=1)(ip).shape"
   ]
  },
  {
   "cell_type": "code",
   "execution_count": 337,
   "id": "163add3f-c8ae-4d76-9f5d-81d2ba4d35f4",
   "metadata": {},
   "outputs": [
    {
     "data": {
      "text/plain": [
       "28.0"
      ]
     },
     "execution_count": 337,
     "metadata": {},
     "output_type": "execute_result"
    }
   ],
   "source": [
    "784**0.5"
   ]
  },
  {
   "cell_type": "code",
   "execution_count": 295,
   "id": "06a448c4-b7fe-4a0e-9b65-8d4b2b223004",
   "metadata": {},
   "outputs": [
    {
     "name": "stdout",
     "output_type": "stream",
     "text": [
      "Reloading 'object_detection_impl.utils.vis'.\n",
      "Reloading 'object_detection_impl.callbacks.vis_dls'.\n"
     ]
    }
   ],
   "source": [
    "from object_detection_impl.datamodules.tv_clf_dm import TorchvisionClfDatamodule\n",
    "from object_detection_impl.callbacks.vis_dls import VisualizeDlsCallback\n",
    "from object_detection_impl.utils.vis import draw_labels_on_images, gridify\n",
    "from torchvision.transforms.functional import to_pil_image"
   ]
  },
  {
   "cell_type": "code",
   "execution_count": 290,
   "id": "55d9f10e-fa94-46da-8dd3-37eeb89214fe",
   "metadata": {},
   "outputs": [],
   "source": [
    "cb = VisualizeDlsCallback(scale=4)"
   ]
  },
  {
   "cell_type": "code",
   "execution_count": 213,
   "id": "e7418350-55ea-43d5-94af-b114bf7cebba",
   "metadata": {},
   "outputs": [
    {
     "name": "stdout",
     "output_type": "stream",
     "text": [
      "Reloading 'object_detection_impl.utils.vis'.\n"
     ]
    },
    {
     "name": "stderr",
     "output_type": "stream",
     "text": [
      "/home/ajkdrag/workspace/projects/object-detection-impl/.venv/lib/python3.9/site-packages/pydantic/main.py:347: UserWarning: Pydantic serializer warnings:\n",
      "  Expected `Union[float, tuple[float, float]]` but got `list` - serialized value may not be as expected\n",
      "  Expected `Union[float, tuple[float, float]]` but got `list` - serialized value may not be as expected\n",
      "  Expected `Union[float, tuple[float, float]]` but got `list` - serialized value may not be as expected\n",
      "  Expected `Union[float, tuple[float, float]]` but got `list` - serialized value may not be as expected\n",
      "  return self.__pydantic_serializer__.to_python(\n"
     ]
    }
   ],
   "source": [
    "dm = TorchvisionClfDatamodule(cfg)"
   ]
  },
  {
   "cell_type": "code",
   "execution_count": 302,
   "id": "3a0e4719-4b9b-4685-86fb-8675f3f3b238",
   "metadata": {},
   "outputs": [
    {
     "name": "stdout",
     "output_type": "stream",
     "text": [
      "2024-06-18T08:23:50.923755Z [info     ] train_dataset size: 35000      func_name=setup lineno=80\n",
      "2024-06-18T08:23:50.930772Z [info     ] val_dataset size: 15000        func_name=setup lineno=81\n"
     ]
    }
   ],
   "source": [
    "dm.setup()"
   ]
  },
  {
   "cell_type": "code",
   "execution_count": 303,
   "id": "57e154ab-f525-493f-98b7-f1b4a884d325",
   "metadata": {},
   "outputs": [
    {
     "name": "stdout",
     "output_type": "stream",
     "text": [
      "Files already downloaded and verified\n",
      "Files already downloaded and verified\n"
     ]
    }
   ],
   "source": [
    "dm.prepare_data()"
   ]
  },
  {
   "cell_type": "code",
   "execution_count": 304,
   "id": "66199cf7-ab32-4666-8e55-1d6f7e21e750",
   "metadata": {},
   "outputs": [],
   "source": [
    "train_dls = dm.train_dataloader()"
   ]
  },
  {
   "cell_type": "code",
   "execution_count": 305,
   "id": "6fdb8d70-6b5f-4f21-9933-12f4a8512b91",
   "metadata": {},
   "outputs": [],
   "source": [
    "first = next(iter(train_dls))"
   ]
  },
  {
   "cell_type": "code",
   "execution_count": 306,
   "id": "93b6ac1a-8b04-4d22-8b0e-0a62d0eeca9a",
   "metadata": {},
   "outputs": [],
   "source": [
    "viz = dm.visualize_batch(first[\"image\"], first[\"target\"])"
   ]
  },
  {
   "cell_type": "code",
   "execution_count": 307,
   "id": "210a06f9-8b2f-44e0-979c-2554d82887af",
   "metadata": {},
   "outputs": [
    {
     "data": {
      "image/jpeg": "[encoded data removed]",
      "image/png": "[encoded data removed]",
      "text/plain": [
       "<PIL.Image.Image image mode=RGB size=490x286>"
      ]
     },
     "execution_count": 307,
     "metadata": {},
     "output_type": "execute_result"
    }
   ],
   "source": [
    "gridify(viz, fp=None, save=False, nrow=4)"
   ]
  },
  {
   "cell_type": "code",
   "execution_count": 308,
   "id": "10fa8008-c01f-4585-840d-8622b4078243",
   "metadata": {},
   "outputs": [
    {
     "name": "stdout",
     "output_type": "stream",
     "text": [
      "Reloading 'object_detection_impl.datamodules.tv_clf_dm'.\n",
      "Reloading 'object_detection_impl.callbacks.vis_dls'.\n"
     ]
    },
    {
     "data": {
      "text/plain": [
       "torch.Size([8, 3, 140, 120])"
      ]
     },
     "execution_count": 308,
     "metadata": {},
     "output_type": "execute_result"
    }
   ],
   "source": [
    "viz.shape"
   ]
  },
  {
   "cell_type": "code",
   "execution_count": null,
   "id": "a2ae203e-b196-48b4-9d84-f46654667527",
   "metadata": {},
   "outputs": [],
   "source": []
  }
 ],
 "metadata": {
  "kernelspec": {
   "display_name": "Python 3 (ipykernel)",
   "language": "python",
   "name": "python3"
  },
  "language_info": {
   "codemirror_mode": {
    "name": "ipython",
    "version": 3
   },
   "file_extension": ".py",
   "mimetype": "text/x-python",
   "name": "python",
   "nbconvert_exporter": "python",
   "pygments_lexer": "ipython3",
   "version": "3.9.2"
  }
 },
 "nbformat": 4,
 "nbformat_minor": 5
}
