{
 "cells": [
  {
   "cell_type": "code",
   "execution_count": 1,
   "id": "9bae5c43-a36e-4768-897f-7d9bedcffbef",
   "metadata": {},
   "outputs": [],
   "source": [
    "import sys\n",
    "from pathlib import Path"
   ]
  },
  {
   "cell_type": "code",
   "execution_count": 2,
   "id": "9c762041-6063-4e9a-8b91-97ddd4134eee",
   "metadata": {},
   "outputs": [],
   "source": [
    "%load_ext autoreload\n",
    "%autoreload 3 -p\n",
    "%matplotlib inline"
   ]
  },
  {
   "cell_type": "markdown",
   "id": "49889896-8cf7-478d-8f35-293edd6f7fb3",
   "metadata": {},
   "source": [
    "## imports"
   ]
  },
  {
   "cell_type": "code",
   "execution_count": 3,
   "id": "cab176f7-2761-4029-a227-a1ac13d759de",
   "metadata": {},
   "outputs": [],
   "source": [
    "import pprint\n",
    "import matplotlib.pyplot as plt"
   ]
  },
  {
   "cell_type": "code",
   "execution_count": 4,
   "id": "fe72054a-b5fd-4795-8fd1-9b6ba176f31f",
   "metadata": {},
   "outputs": [],
   "source": [
    "from hydra import initialize, compose"
   ]
  },
  {
   "cell_type": "markdown",
   "id": "355f53a2-1171-4653-b37c-222584e42b28",
   "metadata": {
    "jp-MarkdownHeadingCollapsed": true
   },
   "source": [
    "## config"
   ]
  },
  {
   "cell_type": "code",
   "execution_count": 8,
   "id": "4ce6fd6e-6418-4c75-9af5-dc36d15d54da",
   "metadata": {},
   "outputs": [],
   "source": [
    "def load_config():\n",
    "    with initialize(version_base=None, config_path=\"../configs\"):\n",
    "        cfg = compose(config_name=\"config_tv_clf\")\n",
    "        print(cfg)\n",
    "        return cfg"
   ]
  },
  {
   "cell_type": "code",
   "execution_count": 9,
   "id": "5cb2d02d-4c08-4598-8052-f67fc4b0c661",
   "metadata": {},
   "outputs": [
    {
     "name": "stdout",
     "output_type": "stream",
     "text": [
      "{'general': {'logs_folder_name': 'logs', 'root_dir': '/home/ajkdrag/workspace/projects/visionlab/experiments', 'workspace': 'ajkdrag', 'project_name': 'od-impl', 'device': 'cuda', 'model_name': '${hydra.runtime.choices.model}', 'exp_name': '${datamodule.dataset.name}'}, 'datamodule': {'path': '/home/ajkdrag/workspace/projects/visionlab/data/cifar10', 'class_name': 'datamodules.tv_clf_dm.TorchvisionClfDatamodule', 'dataset': {'class_name': 'datasets.tv_clf_ds.TorchvisionClfDataset', 'name': 'CIFAR10', 'mean': [0.4914, 0.4822, 0.4465], 'std': [0.2471, 0.2435, 0.2616], 'n_classes': 10}, 'num_workers': 8, 'batch_size': '${training.bs}', 'test_batch_size': 32, 'pin_memory': True, 'splits': [1.0, 0.0]}, 'augmentation': {'train': [{'class_name': 'albumentations.RandomResizedCrop', 'params': {'height': '${model.ip.h}', 'width': '${model.ip.w}', 'scale': [0.75, 1], 'ratio': [0.75, 1.2], 'p': 0.5}}, {'class_name': 'albumentations.HorizontalFlip', 'params': {'p': 0.5}}, {'class_name': 'albumentations.ShiftScaleRotate', 'params': {'shift_limit': 0.2, 'scale_limit': 0.1, 'rotate_limit': 20, 'border_mode': 0, 'value': 127, 'p': 0.5}}, {'class_name': 'albumentations.ColorJitter', 'params': {'brightness': 0.2, 'contrast': 0.3, 'saturation': 0.2, 'hue': 0.2, 'p': 1.0}}, {'class_name': 'albumentations.CoarseDropout', 'params': {'num_holes_range': [1, 2], 'hole_height_range': [8, 12], 'hole_width_range': [8, 12], 'fill_value': 120, 'p': 0.2}}, {'class_name': 'albumentations.Normalize', 'params': {'mean': '${datamodule.dataset.mean}', 'std': '${datamodule.dataset.std}', 'p': 1.0}}, {'class_name': 'albumentations.pytorch.transforms.ToTensorV2', 'params': {'p': 1.0}}], 'val': [{'class_name': 'albumentations.Normalize', 'params': {'mean': '${datamodule.dataset.mean}', 'std': '${datamodule.dataset.std}', 'p': 1.0}}, {'class_name': 'albumentations.pytorch.transforms.ToTensorV2', 'params': {'p': 1.0}}]}, 'training': {'lr': 1e-06, 'max_lr': 0.001, 'wd': 0.05, 'bs': 128, 'epochs': 200, 'seed': 666, 'debug': False, 'mode': 'max', 'monitor': '${metric._primary}', 'lit_model': {'class_name': 'lit_models.image_clf.LitImageClassifier'}, 'trainer_params': {'devices': 1, 'accelerator': 'gpu', 'precision': '16-mixed', 'profiler': False, 'max_epochs': '${training.epochs}', 'log_every_n_steps': 50, 'num_sanity_val_steps': 0, 'check_val_every_n_epoch': 1, 'default_root_dir': '${general.root_dir}'}}, 'predict': {'checkpoint': 'model_checkpoints/epoch=14-valid_accuracy=0.753200.ckpt'}, 'model': {'class_name': 'models.nets.base.ClfModel', 'ip': {'c': 3, 'h': 32, 'w': 32}, 'layers': {'s1': ['ip', 1, 'ShiftedPatchTokenization', [32, 4, 64]], 't1': ['s1', 8, 'TransformerEncoder', [{'c1': 64, 'drop': 0.3}]], 'n1': ['t1', 1, 'SequencePooling', [64]], 'h1': ['n1', 1, 'FCHead', [64, ['${datamodule.dataset.n_classes}']]]}}, 'optimizer': {'class_name': 'torch.optim.AdamW', 'params': {'lr': '${training.lr}', 'weight_decay': '${training.wd}'}}, 'scheduler': {'class_name': 'torch.optim.lr_scheduler.OneCycleLR', 'step': 'step', 'monitor': 'train_${training.monitor}', 'params': {'max_lr': '${training.max_lr}', 'total_steps': None}}, 'loss': {'class_name': 'torch.nn.CrossEntropyLoss', 'params': {'label_smoothing': 0.1}}, 'metric': {'accuracy': {'class_name': 'torchmetrics.Accuracy', 'params': {'task': 'multiclass', 'threshold': 0.5, 'num_classes': '${datamodule.dataset.n_classes}', 'top_k': 1}}, 'f1_score': {'class_name': 'torchmetrics.F1Score', 'params': {'task': 'multiclass', 'average': 'weighted', 'num_classes': '${datamodule.dataset.n_classes}'}}, '_primary': 'accuracy'}, 'callback': {'model_checkpoint': {'class_name': 'lightning.pytorch.callbacks.ModelCheckpoint', 'params': {'monitor': 'valid_${training.monitor}', 'save_top_k': 1, 'dirpath': 'model_checkpoints', 'filename': '{epoch}-{valid_${training.monitor}:.6f}', 'mode': '${training.mode}'}}, 'vis_dls': {'class_name': 'callbacks.vis_dls.VisualizeDlsCallback', 'params': {'num_samples': 8, 'dirpath': 'dls'}}}, 'logging': {'log': True, 'loggers': [{'class_name': 'pytorch_lightning.loggers.CSVLogger', 'params': {'save_dir': '${general.root_dir}', 'name': '${general.exp_name}/logs'}}]}}\n"
     ]
    }
   ],
   "source": [
    "cfg = load_config()"
   ]
  },
  {
   "cell_type": "code",
   "execution_count": 10,
   "id": "fea7b244-68fb-49d9-b792-bd92d335aeea",
   "metadata": {},
   "outputs": [
    {
     "data": {
      "text/plain": [
       "{'train': [{'class_name': 'albumentations.RandomResizedCrop', 'params': {'height': '${model.ip.h}', 'width': '${model.ip.w}', 'scale': [0.75, 1], 'ratio': [0.75, 1.2], 'p': 0.5}}, {'class_name': 'albumentations.HorizontalFlip', 'params': {'p': 0.5}}, {'class_name': 'albumentations.ShiftScaleRotate', 'params': {'shift_limit': 0.2, 'scale_limit': 0.1, 'rotate_limit': 20, 'border_mode': 0, 'value': 127, 'p': 0.5}}, {'class_name': 'albumentations.ColorJitter', 'params': {'brightness': 0.2, 'contrast': 0.3, 'saturation': 0.2, 'hue': 0.2, 'p': 1.0}}, {'class_name': 'albumentations.CoarseDropout', 'params': {'num_holes_range': [1, 2], 'hole_height_range': [8, 12], 'hole_width_range': [8, 12], 'fill_value': 120, 'p': 0.2}}, {'class_name': 'albumentations.Normalize', 'params': {'mean': '${datamodule.dataset.mean}', 'std': '${datamodule.dataset.std}', 'p': 1.0}}, {'class_name': 'albumentations.pytorch.transforms.ToTensorV2', 'params': {'p': 1.0}}], 'val': [{'class_name': 'albumentations.Normalize', 'params': {'mean': '${datamodule.dataset.mean}', 'std': '${datamodule.dataset.std}', 'p': 1.0}}, {'class_name': 'albumentations.pytorch.transforms.ToTensorV2', 'params': {'p': 1.0}}]}"
      ]
     },
     "execution_count": 10,
     "metadata": {},
     "output_type": "execute_result"
    }
   ],
   "source": [
    "cfg.augmentation"
   ]
  },
  {
   "cell_type": "code",
   "execution_count": null,
   "id": "e5633e5c-0a3e-46d2-a70f-08dfb9bdd4f5",
   "metadata": {},
   "outputs": [
    {
     "name": "stdout",
     "output_type": "stream",
     "text": [
      "2024-06-18T07:08:53.858095Z [info     ] **** Running train func ****   func_name=_run lineno=18\n"
     ]
    },
    {
     "name": "stderr",
     "output_type": "stream",
     "text": [
      "/home/ajkdrag/workspace/projects/visionlab/.venv/lib/python3.9/site-packages/lightning/fabric/connector.py:563: `precision=16` is supported for historical reasons but its usage is discouraged. Please set your precision to 16-mixed instead!\n"
     ]
    },
    {
     "name": "stdout",
     "output_type": "stream",
     "text": [
      "Using 16bit Automatic Mixed Precision (AMP)\n",
      "GPU available: True (cuda), used: True\n",
      "TPU available: False, using: 0 TPU cores\n",
      "IPU available: False, using: 0 IPUs\n",
      "HPU available: False, using: 0 HPUs\n"
     ]
    },
    {
     "name": "stderr",
     "output_type": "stream",
     "text": [
      "/home/ajkdrag/workspace/projects/visionlab/.venv/lib/python3.9/site-packages/pydantic/main.py:347: UserWarning: Pydantic serializer warnings:\n",
      "  Expected `Union[float, tuple[float, float]]` but got `list` - serialized value may not be as expected\n",
      "  Expected `Union[float, tuple[float, float]]` but got `list` - serialized value may not be as expected\n",
      "  Expected `Union[float, tuple[float, float]]` but got `list` - serialized value may not be as expected\n",
      "  Expected `Union[float, tuple[float, float]]` but got `list` - serialized value may not be as expected\n",
      "  return self.__pydantic_serializer__.to_python(\n"
     ]
    },
    {
     "name": "stdout",
     "output_type": "stream",
     "text": [
      "Files already downloaded and verified\n",
      "Files already downloaded and verified\n",
      "2024-06-18T07:08:56.033632Z [info     ] train_dataset size: 35000      func_name=setup lineno=77\n",
      "2024-06-18T07:08:56.040437Z [info     ] val_dataset size: 15000        func_name=setup lineno=78\n"
     ]
    },
    {
     "name": "stderr",
     "output_type": "stream",
     "text": [
      "/home/ajkdrag/workspace/projects/visionlab/.venv/lib/python3.9/site-packages/lightning/pytorch/callbacks/model_checkpoint.py:653: Checkpoint directory /home/ajkdrag/workspace/projects/visionlab/experiments/CIFAR10/model_checkpoints exists and is not empty.\n",
      "INFO: LOCAL_RANK: 0 - CUDA_VISIBLE_DEVICES: [0]\n"
     ]
    },
    {
     "name": "stdout",
     "output_type": "stream",
     "text": [
      "Loading `train_dataloader` to estimate number of stepping batches.\n"
     ]
    },
    {
     "name": "stderr",
     "output_type": "stream",
     "text": [
      "INFO: \n",
      "  | Name    | Type             | Params\n",
      "---------------------------------------------\n",
      "0 | model   | ConvTiny         | 80.2 K\n",
      "1 | loss    | CrossEntropyLoss | 0     \n",
      "2 | metrics | ModuleDict       | 0     \n",
      "---------------------------------------------\n",
      "80.2 K    Trainable params\n",
      "0         Non-trainable params\n",
      "80.2 K    Total params\n",
      "0.321     Total estimated model params size (MB)\n"
     ]
    },
    {
     "data": {
      "application/vnd.jupyter.widget-view+json": {
       "model_id": "ac86f7f9f0d64a5c9f4a7cf65a3c27c0",
       "version_major": 2,
       "version_minor": 0
      },
      "text/plain": [
       "Training: |                                                                                                   …"
      ]
     },
     "metadata": {},
     "output_type": "display_data"
    },
    {
     "name": "stderr",
     "output_type": "stream",
     "text": [
      "/home/ajkdrag/workspace/projects/visionlab/.venv/lib/python3.9/site-packages/torch/optim/lr_scheduler.py:143: UserWarning: Detected call of `lr_scheduler.step()` before `optimizer.step()`. In PyTorch 1.1.0 and later, you should call them in the opposite order: `optimizer.step()` before `lr_scheduler.step()`.  Failure to do this will result in PyTorch skipping the first value of the learning rate schedule. See more details at https://pytorch.org/docs/stable/optim.html#how-to-adjust-learning-rate\n",
      "  warnings.warn(\"Detected call of `lr_scheduler.step()` before `optimizer.step()`. \"\n"
     ]
    },
    {
     "data": {
      "application/vnd.jupyter.widget-view+json": {
       "model_id": "",
       "version_major": 2,
       "version_minor": 0
      },
      "text/plain": [
       "Validation: |                                                                                                 …"
      ]
     },
     "metadata": {},
     "output_type": "display_data"
    },
    {
     "data": {
      "application/vnd.jupyter.widget-view+json": {
       "model_id": "",
       "version_major": 2,
       "version_minor": 0
      },
      "text/plain": [
       "Validation: |                                                                                                 …"
      ]
     },
     "metadata": {},
     "output_type": "display_data"
    },
    {
     "data": {
      "application/vnd.jupyter.widget-view+json": {
       "model_id": "",
       "version_major": 2,
       "version_minor": 0
      },
      "text/plain": [
       "Validation: |                                                                                                 …"
      ]
     },
     "metadata": {},
     "output_type": "display_data"
    },
    {
     "data": {
      "application/vnd.jupyter.widget-view+json": {
       "model_id": "",
       "version_major": 2,
       "version_minor": 0
      },
      "text/plain": [
       "Validation: |                                                                                                 …"
      ]
     },
     "metadata": {},
     "output_type": "display_data"
    },
    {
     "data": {
      "application/vnd.jupyter.widget-view+json": {
       "model_id": "",
       "version_major": 2,
       "version_minor": 0
      },
      "text/plain": [
       "Validation: |                                                                                                 …"
      ]
     },
     "metadata": {},
     "output_type": "display_data"
    },
    {
     "data": {
      "application/vnd.jupyter.widget-view+json": {
       "model_id": "",
       "version_major": 2,
       "version_minor": 0
      },
      "text/plain": [
       "Validation: |                                                                                                 …"
      ]
     },
     "metadata": {},
     "output_type": "display_data"
    },
    {
     "data": {
      "application/vnd.jupyter.widget-view+json": {
       "model_id": "",
       "version_major": 2,
       "version_minor": 0
      },
      "text/plain": [
       "Validation: |                                                                                                 …"
      ]
     },
     "metadata": {},
     "output_type": "display_data"
    },
    {
     "data": {
      "application/vnd.jupyter.widget-view+json": {
       "model_id": "",
       "version_major": 2,
       "version_minor": 0
      },
      "text/plain": [
       "Validation: |                                                                                                 …"
      ]
     },
     "metadata": {},
     "output_type": "display_data"
    },
    {
     "data": {
      "application/vnd.jupyter.widget-view+json": {
       "model_id": "",
       "version_major": 2,
       "version_minor": 0
      },
      "text/plain": [
       "Validation: |                                                                                                 …"
      ]
     },
     "metadata": {},
     "output_type": "display_data"
    },
    {
     "data": {
      "application/vnd.jupyter.widget-view+json": {
       "model_id": "",
       "version_major": 2,
       "version_minor": 0
      },
      "text/plain": [
       "Validation: |                                                                                                 …"
      ]
     },
     "metadata": {},
     "output_type": "display_data"
    },
    {
     "data": {
      "application/vnd.jupyter.widget-view+json": {
       "model_id": "",
       "version_major": 2,
       "version_minor": 0
      },
      "text/plain": [
       "Validation: |                                                                                                 …"
      ]
     },
     "metadata": {},
     "output_type": "display_data"
    },
    {
     "data": {
      "application/vnd.jupyter.widget-view+json": {
       "model_id": "",
       "version_major": 2,
       "version_minor": 0
      },
      "text/plain": [
       "Validation: |                                                                                                 …"
      ]
     },
     "metadata": {},
     "output_type": "display_data"
    },
    {
     "data": {
      "application/vnd.jupyter.widget-view+json": {
       "model_id": "",
       "version_major": 2,
       "version_minor": 0
      },
      "text/plain": [
       "Validation: |                                                                                                 …"
      ]
     },
     "metadata": {},
     "output_type": "display_data"
    },
    {
     "data": {
      "application/vnd.jupyter.widget-view+json": {
       "model_id": "",
       "version_major": 2,
       "version_minor": 0
      },
      "text/plain": [
       "Validation: |                                                                                                 …"
      ]
     },
     "metadata": {},
     "output_type": "display_data"
    },
    {
     "data": {
      "application/vnd.jupyter.widget-view+json": {
       "model_id": "",
       "version_major": 2,
       "version_minor": 0
      },
      "text/plain": [
       "Validation: |                                                                                                 …"
      ]
     },
     "metadata": {},
     "output_type": "display_data"
    },
    {
     "data": {
      "application/vnd.jupyter.widget-view+json": {
       "model_id": "",
       "version_major": 2,
       "version_minor": 0
      },
      "text/plain": [
       "Validation: |                                                                                                 …"
      ]
     },
     "metadata": {},
     "output_type": "display_data"
    },
    {
     "data": {
      "application/vnd.jupyter.widget-view+json": {
       "model_id": "",
       "version_major": 2,
       "version_minor": 0
      },
      "text/plain": [
       "Validation: |                                                                                                 …"
      ]
     },
     "metadata": {},
     "output_type": "display_data"
    },
    {
     "data": {
      "application/vnd.jupyter.widget-view+json": {
       "model_id": "",
       "version_major": 2,
       "version_minor": 0
      },
      "text/plain": [
       "Validation: |                                                                                                 …"
      ]
     },
     "metadata": {},
     "output_type": "display_data"
    },
    {
     "data": {
      "application/vnd.jupyter.widget-view+json": {
       "model_id": "",
       "version_major": 2,
       "version_minor": 0
      },
      "text/plain": [
       "Validation: |                                                                                                 …"
      ]
     },
     "metadata": {},
     "output_type": "display_data"
    },
    {
     "data": {
      "application/vnd.jupyter.widget-view+json": {
       "model_id": "",
       "version_major": 2,
       "version_minor": 0
      },
      "text/plain": [
       "Validation: |                                                                                                 …"
      ]
     },
     "metadata": {},
     "output_type": "display_data"
    },
    {
     "data": {
      "application/vnd.jupyter.widget-view+json": {
       "model_id": "",
       "version_major": 2,
       "version_minor": 0
      },
      "text/plain": [
       "Validation: |                                                                                                 …"
      ]
     },
     "metadata": {},
     "output_type": "display_data"
    },
    {
     "data": {
      "application/vnd.jupyter.widget-view+json": {
       "model_id": "",
       "version_major": 2,
       "version_minor": 0
      },
      "text/plain": [
       "Validation: |                                                                                                 …"
      ]
     },
     "metadata": {},
     "output_type": "display_data"
    },
    {
     "data": {
      "application/vnd.jupyter.widget-view+json": {
       "model_id": "",
       "version_major": 2,
       "version_minor": 0
      },
      "text/plain": [
       "Validation: |                                                                                                 …"
      ]
     },
     "metadata": {},
     "output_type": "display_data"
    },
    {
     "data": {
      "application/vnd.jupyter.widget-view+json": {
       "model_id": "",
       "version_major": 2,
       "version_minor": 0
      },
      "text/plain": [
       "Validation: |                                                                                                 …"
      ]
     },
     "metadata": {},
     "output_type": "display_data"
    },
    {
     "data": {
      "application/vnd.jupyter.widget-view+json": {
       "model_id": "",
       "version_major": 2,
       "version_minor": 0
      },
      "text/plain": [
       "Validation: |                                                                                                 …"
      ]
     },
     "metadata": {},
     "output_type": "display_data"
    },
    {
     "data": {
      "application/vnd.jupyter.widget-view+json": {
       "model_id": "",
       "version_major": 2,
       "version_minor": 0
      },
      "text/plain": [
       "Validation: |                                                                                                 …"
      ]
     },
     "metadata": {},
     "output_type": "display_data"
    },
    {
     "data": {
      "application/vnd.jupyter.widget-view+json": {
       "model_id": "",
       "version_major": 2,
       "version_minor": 0
      },
      "text/plain": [
       "Validation: |                                                                                                 …"
      ]
     },
     "metadata": {},
     "output_type": "display_data"
    },
    {
     "data": {
      "application/vnd.jupyter.widget-view+json": {
       "model_id": "",
       "version_major": 2,
       "version_minor": 0
      },
      "text/plain": [
       "Validation: |                                                                                                 …"
      ]
     },
     "metadata": {},
     "output_type": "display_data"
    },
    {
     "data": {
      "application/vnd.jupyter.widget-view+json": {
       "model_id": "",
       "version_major": 2,
       "version_minor": 0
      },
      "text/plain": [
       "Validation: |                                                                                                 …"
      ]
     },
     "metadata": {},
     "output_type": "display_data"
    },
    {
     "data": {
      "application/vnd.jupyter.widget-view+json": {
       "model_id": "",
       "version_major": 2,
       "version_minor": 0
      },
      "text/plain": [
       "Validation: |                                                                                                 …"
      ]
     },
     "metadata": {},
     "output_type": "display_data"
    },
    {
     "data": {
      "application/vnd.jupyter.widget-view+json": {
       "model_id": "",
       "version_major": 2,
       "version_minor": 0
      },
      "text/plain": [
       "Validation: |                                                                                                 …"
      ]
     },
     "metadata": {},
     "output_type": "display_data"
    },
    {
     "data": {
      "application/vnd.jupyter.widget-view+json": {
       "model_id": "",
       "version_major": 2,
       "version_minor": 0
      },
      "text/plain": [
       "Validation: |                                                                                                 …"
      ]
     },
     "metadata": {},
     "output_type": "display_data"
    },
    {
     "data": {
      "application/vnd.jupyter.widget-view+json": {
       "model_id": "",
       "version_major": 2,
       "version_minor": 0
      },
      "text/plain": [
       "Validation: |                                                                                                 …"
      ]
     },
     "metadata": {},
     "output_type": "display_data"
    },
    {
     "data": {
      "application/vnd.jupyter.widget-view+json": {
       "model_id": "",
       "version_major": 2,
       "version_minor": 0
      },
      "text/plain": [
       "Validation: |                                                                                                 …"
      ]
     },
     "metadata": {},
     "output_type": "display_data"
    },
    {
     "data": {
      "application/vnd.jupyter.widget-view+json": {
       "model_id": "",
       "version_major": 2,
       "version_minor": 0
      },
      "text/plain": [
       "Validation: |                                                                                                 …"
      ]
     },
     "metadata": {},
     "output_type": "display_data"
    },
    {
     "data": {
      "application/vnd.jupyter.widget-view+json": {
       "model_id": "",
       "version_major": 2,
       "version_minor": 0
      },
      "text/plain": [
       "Validation: |                                                                                                 …"
      ]
     },
     "metadata": {},
     "output_type": "display_data"
    },
    {
     "data": {
      "application/vnd.jupyter.widget-view+json": {
       "model_id": "",
       "version_major": 2,
       "version_minor": 0
      },
      "text/plain": [
       "Validation: |                                                                                                 …"
      ]
     },
     "metadata": {},
     "output_type": "display_data"
    },
    {
     "data": {
      "application/vnd.jupyter.widget-view+json": {
       "model_id": "",
       "version_major": 2,
       "version_minor": 0
      },
      "text/plain": [
       "Validation: |                                                                                                 …"
      ]
     },
     "metadata": {},
     "output_type": "display_data"
    },
    {
     "data": {
      "application/vnd.jupyter.widget-view+json": {
       "model_id": "",
       "version_major": 2,
       "version_minor": 0
      },
      "text/plain": [
       "Validation: |                                                                                                 …"
      ]
     },
     "metadata": {},
     "output_type": "display_data"
    },
    {
     "data": {
      "application/vnd.jupyter.widget-view+json": {
       "model_id": "",
       "version_major": 2,
       "version_minor": 0
      },
      "text/plain": [
       "Validation: |                                                                                                 …"
      ]
     },
     "metadata": {},
     "output_type": "display_data"
    },
    {
     "data": {
      "application/vnd.jupyter.widget-view+json": {
       "model_id": "",
       "version_major": 2,
       "version_minor": 0
      },
      "text/plain": [
       "Validation: |                                                                                                 …"
      ]
     },
     "metadata": {},
     "output_type": "display_data"
    },
    {
     "data": {
      "application/vnd.jupyter.widget-view+json": {
       "model_id": "",
       "version_major": 2,
       "version_minor": 0
      },
      "text/plain": [
       "Validation: |                                                                                                 …"
      ]
     },
     "metadata": {},
     "output_type": "display_data"
    },
    {
     "data": {
      "application/vnd.jupyter.widget-view+json": {
       "model_id": "",
       "version_major": 2,
       "version_minor": 0
      },
      "text/plain": [
       "Validation: |                                                                                                 …"
      ]
     },
     "metadata": {},
     "output_type": "display_data"
    },
    {
     "data": {
      "application/vnd.jupyter.widget-view+json": {
       "model_id": "",
       "version_major": 2,
       "version_minor": 0
      },
      "text/plain": [
       "Validation: |                                                                                                 …"
      ]
     },
     "metadata": {},
     "output_type": "display_data"
    },
    {
     "data": {
      "application/vnd.jupyter.widget-view+json": {
       "model_id": "",
       "version_major": 2,
       "version_minor": 0
      },
      "text/plain": [
       "Validation: |                                                                                                 …"
      ]
     },
     "metadata": {},
     "output_type": "display_data"
    },
    {
     "data": {
      "application/vnd.jupyter.widget-view+json": {
       "model_id": "",
       "version_major": 2,
       "version_minor": 0
      },
      "text/plain": [
       "Validation: |                                                                                                 …"
      ]
     },
     "metadata": {},
     "output_type": "display_data"
    },
    {
     "data": {
      "application/vnd.jupyter.widget-view+json": {
       "model_id": "",
       "version_major": 2,
       "version_minor": 0
      },
      "text/plain": [
       "Validation: |                                                                                                 …"
      ]
     },
     "metadata": {},
     "output_type": "display_data"
    },
    {
     "data": {
      "application/vnd.jupyter.widget-view+json": {
       "model_id": "",
       "version_major": 2,
       "version_minor": 0
      },
      "text/plain": [
       "Validation: |                                                                                                 …"
      ]
     },
     "metadata": {},
     "output_type": "display_data"
    },
    {
     "data": {
      "application/vnd.jupyter.widget-view+json": {
       "model_id": "",
       "version_major": 2,
       "version_minor": 0
      },
      "text/plain": [
       "Validation: |                                                                                                 …"
      ]
     },
     "metadata": {},
     "output_type": "display_data"
    },
    {
     "data": {
      "application/vnd.jupyter.widget-view+json": {
       "model_id": "",
       "version_major": 2,
       "version_minor": 0
      },
      "text/plain": [
       "Validation: |                                                                                                 …"
      ]
     },
     "metadata": {},
     "output_type": "display_data"
    },
    {
     "data": {
      "application/vnd.jupyter.widget-view+json": {
       "model_id": "",
       "version_major": 2,
       "version_minor": 0
      },
      "text/plain": [
       "Validation: |                                                                                                 …"
      ]
     },
     "metadata": {},
     "output_type": "display_data"
    },
    {
     "data": {
      "application/vnd.jupyter.widget-view+json": {
       "model_id": "",
       "version_major": 2,
       "version_minor": 0
      },
      "text/plain": [
       "Validation: |                                                                                                 …"
      ]
     },
     "metadata": {},
     "output_type": "display_data"
    },
    {
     "data": {
      "application/vnd.jupyter.widget-view+json": {
       "model_id": "",
       "version_major": 2,
       "version_minor": 0
      },
      "text/plain": [
       "Validation: |                                                                                                 …"
      ]
     },
     "metadata": {},
     "output_type": "display_data"
    },
    {
     "data": {
      "application/vnd.jupyter.widget-view+json": {
       "model_id": "",
       "version_major": 2,
       "version_minor": 0
      },
      "text/plain": [
       "Validation: |                                                                                                 …"
      ]
     },
     "metadata": {},
     "output_type": "display_data"
    },
    {
     "data": {
      "application/vnd.jupyter.widget-view+json": {
       "model_id": "",
       "version_major": 2,
       "version_minor": 0
      },
      "text/plain": [
       "Validation: |                                                                                                 …"
      ]
     },
     "metadata": {},
     "output_type": "display_data"
    },
    {
     "data": {
      "application/vnd.jupyter.widget-view+json": {
       "model_id": "",
       "version_major": 2,
       "version_minor": 0
      },
      "text/plain": [
       "Validation: |                                                                                                 …"
      ]
     },
     "metadata": {},
     "output_type": "display_data"
    },
    {
     "data": {
      "application/vnd.jupyter.widget-view+json": {
       "model_id": "590df5ff1bd64cc88ab57170d4fe26c3",
       "version_major": 2,
       "version_minor": 0
      },
      "text/plain": [
       "Validation: |                                                                                                 …"
      ]
     },
     "metadata": {},
     "output_type": "display_data"
    }
   ],
   "source": [
    "_run(cfg)"
   ]
  },
  {
   "cell_type": "code",
   "execution_count": null,
   "id": "c03e41ff-072e-422f-9104-fec49acc68c0",
   "metadata": {},
   "outputs": [],
   "source": []
  },
  {
   "cell_type": "code",
   "execution_count": 27,
   "id": "29677be8-d4d9-44fa-b36b-e088bea7f8b3",
   "metadata": {},
   "outputs": [
    {
     "name": "stdout",
     "output_type": "stream",
     "text": [
      "2024-06-12T05:12:04.705571Z [info     ] **** Running predict func **** func_name=_run lineno=36\n",
      "Files already downloaded and verified\n",
      "Files already downloaded and verified\n",
      "torch.Size([32, 3, 140, 120])\n"
     ]
    }
   ],
   "source": [
    "for idx, out in enumerate(pred_run(cfg)):\n",
    "    if idx == 0:\n",
    "        print(out.shape)\n",
    "        break"
   ]
  },
  {
   "cell_type": "code",
   "execution_count": 33,
   "id": "a2bc8e97-55f4-41b9-8540-67826673c89c",
   "metadata": {},
   "outputs": [
    {
     "data": {
      "image/jpeg": "[encoded data removed]",
      "image/png": "[encoded data removed]",
      "text/plain": [
       "<PIL.Image.Image image mode=RGB size=120x140>"
      ]
     },
     "execution_count": 33,
     "metadata": {},
     "output_type": "execute_result"
    }
   ],
   "source": [
    "to_pil_image(out[9])"
   ]
  },
  {
   "cell_type": "code",
   "execution_count": null,
   "id": "2a3f8962-b21c-44d5-8405-ea69a99a9504",
   "metadata": {},
   "outputs": [],
   "source": []
  },
  {
   "cell_type": "markdown",
   "id": "70014ed6-0db8-4130-ba06-8e0acccc79b2",
   "metadata": {},
   "source": [
    "## exp"
   ]
  },
  {
   "cell_type": "code",
   "execution_count": 5,
   "id": "e643984f-11ba-4684-ab42-c78e7bb3d4eb",
   "metadata": {},
   "outputs": [],
   "source": [
    "import torch\n",
    "import torch.nn as nn\n",
    "import math\n",
    "from einops import rearrange\n",
    "import torch.nn.functional as F\n",
    "from einops.layers.torch import Rearrange\n",
    "from visionlab.utils.vis import make_grid, gridify"
   ]
  },
  {
   "cell_type": "code",
   "execution_count": 41,
   "id": "68a009b7-a6fa-4c61-b958-d132a0cb2749",
   "metadata": {},
   "outputs": [
    {
     "name": "stdout",
     "output_type": "stream",
     "text": [
      "Reloading 'visionlab.models.blocks.layers'.\n"
     ]
    }
   ],
   "source": [
    "from visionlab.models.blocks import Conv1x1Layer, ConvLayer, TransformerEncoderConvLike, ConvLikeAttention"
   ]
  },
  {
   "cell_type": "code",
   "execution_count": 42,
   "id": "c48b2290-70af-4521-ae60-49547d44a808",
   "metadata": {},
   "outputs": [],
   "source": [
    "ip = torch.rand(2, 32, 32, 32)"
   ]
  },
  {
   "cell_type": "code",
   "execution_count": 43,
   "id": "d9846043-f430-4eb5-88c2-b7e485982e3d",
   "metadata": {},
   "outputs": [
    {
     "data": {
      "text/plain": [
       "torch.Size([2, 32, 32, 32])"
      ]
     },
     "execution_count": 43,
     "metadata": {},
     "output_type": "execute_result"
    }
   ],
   "source": [
    "ip.shape"
   ]
  },
  {
   "cell_type": "code",
   "execution_count": 44,
   "id": "9e3b5cad-4fed-4e65-8fb2-5d00ccce8e15",
   "metadata": {},
   "outputs": [],
   "source": [
    "attn = ConvLikeAttention(32, 64)"
   ]
  },
  {
   "cell_type": "code",
   "execution_count": 45,
   "id": "86fc80a4-6045-45f7-8972-38193443a24d",
   "metadata": {},
   "outputs": [
    {
     "data": {
      "text/plain": [
       "torch.Size([2, 64, 32, 32])"
      ]
     },
     "execution_count": 45,
     "metadata": {},
     "output_type": "execute_result"
    }
   ],
   "source": [
    "attn(ip).shape"
   ]
  },
  {
   "cell_type": "code",
   "execution_count": 46,
   "id": "812cf09d-06f6-48f4-8316-6d374beea022",
   "metadata": {},
   "outputs": [],
   "source": [
    "model = TransformerEncoderConvLike(32, 64, s=1)"
   ]
  },
  {
   "cell_type": "code",
   "execution_count": 47,
   "id": "dd8fd85e-4fda-43e2-a1c8-9715ce46cc4e",
   "metadata": {},
   "outputs": [
    {
     "data": {
      "text/plain": [
       "torch.Size([2, 32, 32, 32])"
      ]
     },
     "execution_count": 47,
     "metadata": {},
     "output_type": "execute_result"
    }
   ],
   "source": [
    "(model.block[0].shortcut(ip) * model.block[0].apply_shortcut).shape"
   ]
  },
  {
   "cell_type": "code",
   "execution_count": null,
   "id": "48e37f6c-c247-47d0-8560-27cb5c8ede84",
   "metadata": {},
   "outputs": [],
   "source": []
  },
  {
   "cell_type": "code",
   "execution_count": null,
   "id": "fef92819-1455-4648-bd5c-6a8cbb897451",
   "metadata": {},
   "outputs": [],
   "source": []
  },
  {
   "cell_type": "code",
   "execution_count": null,
   "id": "953a8de4-3fad-4d1e-a621-56e309ee16b4",
   "metadata": {},
   "outputs": [],
   "source": []
  },
  {
   "cell_type": "code",
   "execution_count": 48,
   "id": "f1c1e3f3-1b6b-4cd2-bf37-ec733c2dc840",
   "metadata": {},
   "outputs": [
    {
     "data": {
      "text/plain": [
       "torch.Size([2, 64, 32, 32])"
      ]
     },
     "execution_count": 48,
     "metadata": {},
     "output_type": "execute_result"
    }
   ],
   "source": [
    "model(ip).shape"
   ]
  },
  {
   "cell_type": "code",
   "execution_count": null,
   "id": "d7601b6e-d19c-4cfd-8d14-129c88f1a663",
   "metadata": {},
   "outputs": [],
   "source": [
    "ConvLayer("
   ]
  },
  {
   "cell_type": "code",
   "execution_count": null,
   "id": "0aa9f02e-25c0-4eff-9662-3d44b9f9eda0",
   "metadata": {},
   "outputs": [],
   "source": [
    "F.scaled_dot_product_attention("
   ]
  },
  {
   "cell_type": "code",
   "execution_count": 190,
   "id": "a2ae203e-b196-48b4-9d84-f46654667527",
   "metadata": {},
   "outputs": [
    {
     "name": "stdout",
     "output_type": "stream",
     "text": [
      "Reloading 'visionlab.models.blocks.attentions'.\n"
     ]
    }
   ],
   "source": [
    "class LeViTAttention(nn.Module):\n",
    "    def __init__(self, c1, c2, dim_key, dim_value, heads=4, s=1, dropout=0.0):\n",
    "        super().__init__()\n",
    "        self.heads = heads\n",
    "        self.dropout = dropout\n",
    "        self.to_q = Conv1x1Layer(c1, dim_key * heads, s=s, act=\"noop\", norm=\"bn2d\")\n",
    "        self.to_k = Conv1x1Layer(c1, dim_key * heads, act=\"noop\", norm=\"bn2d\")\n",
    "        self.to_v = Conv1x1Layer(c1, dim_value * heads, act=\"noop\", norm=\"bn2d\")\n",
    "        self.to_out = Conv1x1Layer(dim_value * heads, c2, act=\"hswish\", norm=\"bn2d\", pre_normact=True)\n",
    "\n",
    "    def forward(self, x):\n",
    "        b, c, h, w = x.shape\n",
    "        q, k, v = self.to_q(x), self.to_k(x), self.to_v(x)\n",
    "        q_h, q_w = q.shape[-2:]\n",
    "        q, k, v = map(lambda t: rearrange(t, 'b (heads d) x y -> b heads (x y) d', heads=self.heads), (q, k, v))\n",
    "        out = F.scaled_dot_product_attention(q, k, v, dropout_p=self.dropout)\n",
    "        out = rearrange(out, 'b heads (x y) d -> b (heads d) x y', x=q_h, y=q_w)\n",
    "        return self.to_out(out)"
   ]
  },
  {
   "cell_type": "code",
   "execution_count": 191,
   "id": "16ed9361-f0f4-4359-b8c1-e4e4588660ac",
   "metadata": {},
   "outputs": [],
   "source": [
    "model = LeViTAttention(32, 64, 32, 48, 4, s=2)"
   ]
  },
  {
   "cell_type": "code",
   "execution_count": 192,
   "id": "64d799d9-9d72-40cf-b523-ae52ad0d337e",
   "metadata": {},
   "outputs": [
    {
     "data": {
      "text/plain": [
       "torch.Size([2, 64, 16, 16])"
      ]
     },
     "execution_count": 192,
     "metadata": {},
     "output_type": "execute_result"
    }
   ],
   "source": [
    "model(ip).shape"
   ]
  },
  {
   "cell_type": "code",
   "execution_count": null,
   "id": "0f228a6f-4eac-4341-bc30-facdbdd3f5e4",
   "metadata": {},
   "outputs": [],
   "source": []
  }
 ],
 "metadata": {
  "kernelspec": {
   "display_name": "Python 3 (ipykernel)",
   "language": "python",
   "name": "python3"
  },
  "language_info": {
   "codemirror_mode": {
    "name": "ipython",
    "version": 3
   },
   "file_extension": ".py",
   "mimetype": "text/x-python",
   "name": "python",
   "nbconvert_exporter": "python",
   "pygments_lexer": "ipython3",
   "version": "3.9.2"
  }
 },
 "nbformat": 4,
 "nbformat_minor": 5
}
